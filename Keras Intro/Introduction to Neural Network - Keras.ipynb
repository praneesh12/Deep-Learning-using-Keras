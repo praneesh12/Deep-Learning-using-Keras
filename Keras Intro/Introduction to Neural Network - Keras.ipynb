{
 "cells": [
  {
   "cell_type": "code",
   "execution_count": 24,
   "metadata": {},
   "outputs": [],
   "source": [
    "import tensorflow as tf\n",
    "from tensorflow import keras\n",
    "import numpy as np"
   ]
  },
  {
   "cell_type": "code",
   "execution_count": 2,
   "metadata": {},
   "outputs": [],
   "source": [
    "fashion_mnist = keras.datasets.fashion_mnist\n",
    "(X_train_full, y_train_full), (X_test, y_test) = fashion_mnist.load_data()"
   ]
  },
  {
   "cell_type": "code",
   "execution_count": 3,
   "metadata": {},
   "outputs": [
    {
     "name": "stdout",
     "output_type": "stream",
     "text": [
      "(60000, 28, 28)\n",
      "uint8\n"
     ]
    }
   ],
   "source": [
    "print(X_train_full.shape)\n",
    "print(X_train_full.dtype)\n"
   ]
  },
  {
   "cell_type": "code",
   "execution_count": 4,
   "metadata": {},
   "outputs": [],
   "source": [
    "X_valid, X_train = X_train_full[:5000] / 255.0, X_train_full[5000:] / 255.0\n",
    "y_valid, y_train = y_train_full[:5000], y_train_full[5000:]\n",
    "X_test = X_test / 255.0"
   ]
  },
  {
   "cell_type": "code",
   "execution_count": 5,
   "metadata": {},
   "outputs": [
    {
     "data": {
      "text/plain": [
       "'Coat'"
      ]
     },
     "execution_count": 5,
     "metadata": {},
     "output_type": "execute_result"
    }
   ],
   "source": [
    "class_names = [\n",
    "    \"T-shirt/top\", \"Trouser\", \"Pullover\", \"Dress\", \"Coat\",\n",
    "    \"Sandal\", \"Shirt\", \"Sneaker\", \"Bag\", \"Ankle boot\"\n",
    "]\n",
    "\n",
    "class_names[y_train[0]]"
   ]
  },
  {
   "cell_type": "markdown",
   "metadata": {},
   "source": [
    "# Creating a Model using Keras API"
   ]
  },
  {
   "cell_type": "code",
   "execution_count": 61,
   "metadata": {},
   "outputs": [],
   "source": [
    "model = keras.models.Sequential()\n",
    "model.add(keras.layers.Flatten(input_shape=[28,28]))\n",
    "model.add(keras.layers.Dense(300, activation=\"relu\"))\n",
    "model.add(keras.layers.Dense(100, activation=\"relu\"))\n",
    "model.add(keras.layers.Dense(10, activation=\"softmax\"))"
   ]
  },
  {
   "cell_type": "code",
   "execution_count": 62,
   "metadata": {},
   "outputs": [
    {
     "data": {
      "text/plain": [
       "<keras.layers.core.Dense at 0x7fc5efd0ae90>"
      ]
     },
     "execution_count": 62,
     "metadata": {},
     "output_type": "execute_result"
    }
   ],
   "source": [
    "from keras.layers import Dense\n",
    "output_layer = Dense(10)\n",
    "output_layer"
   ]
  },
  {
   "cell_type": "code",
   "execution_count": 63,
   "metadata": {},
   "outputs": [
    {
     "data": {
      "text/plain": [
       "<tensorflow.python.keras.layers.core.Dense at 0x7fc5efd11350>"
      ]
     },
     "execution_count": 63,
     "metadata": {},
     "output_type": "execute_result"
    }
   ],
   "source": [
    "from tensorflow.keras.layers import Dense\n",
    "output_layer = Dense(10)\n",
    "output_layer"
   ]
  },
  {
   "cell_type": "code",
   "execution_count": 64,
   "metadata": {},
   "outputs": [
    {
     "data": {
      "text/plain": [
       "<tensorflow.python.keras.layers.core.Dense at 0x7fc5efd27290>"
      ]
     },
     "execution_count": 64,
     "metadata": {},
     "output_type": "execute_result"
    }
   ],
   "source": [
    "from tensorflow import keras\n",
    "output_layer = keras.layers.Dense(10)\n",
    "output_layer"
   ]
  },
  {
   "cell_type": "code",
   "execution_count": 6,
   "metadata": {},
   "outputs": [],
   "source": [
    "model = keras.models.Sequential([\n",
    "    keras.layers.Flatten(input_shape=[28, 28]),\n",
    "    keras.layers.Dense(300, activation=\"relu\"),\n",
    "    keras.layers.Dense(100, activation=\"relu\"),\n",
    "    keras.layers.Dense(10, activation=\"softmax\")\n",
    "])"
   ]
  },
  {
   "cell_type": "code",
   "execution_count": 7,
   "metadata": {},
   "outputs": [
    {
     "name": "stdout",
     "output_type": "stream",
     "text": [
      "[<tensorflow.python.keras.layers.core.Flatten object at 0x7f91b096edd0>, <tensorflow.python.keras.layers.core.Dense object at 0x7f91a945e110>, <tensorflow.python.keras.layers.core.Dense object at 0x7f919141b750>, <tensorflow.python.keras.layers.core.Dense object at 0x7f91899103d0>]\n"
     ]
    },
    {
     "data": {
      "text/plain": [
       "'dense'"
      ]
     },
     "execution_count": 7,
     "metadata": {},
     "output_type": "execute_result"
    }
   ],
   "source": [
    "print(model.layers)\n",
    "hidden1 = model.layers[1]\n",
    "hidden1.name"
   ]
  },
  {
   "cell_type": "code",
   "execution_count": 8,
   "metadata": {},
   "outputs": [
    {
     "data": {
      "text/plain": [
       "(784, 300)"
      ]
     },
     "execution_count": 8,
     "metadata": {},
     "output_type": "execute_result"
    }
   ],
   "source": [
    "weights, biases = hidden1.get_weights()\n",
    "weights.shape"
   ]
  },
  {
   "cell_type": "code",
   "execution_count": 10,
   "metadata": {},
   "outputs": [
    {
     "name": "stdout",
     "output_type": "stream",
     "text": [
      "Epoch 1/30\n",
      "1719/1719 [==============================] - 4s 2ms/step - loss: 0.5002 - accuracy: 0.8285 - val_loss: 0.4393 - val_accuracy: 0.8476\n",
      "Epoch 2/30\n",
      "1719/1719 [==============================] - 4s 2ms/step - loss: 0.4468 - accuracy: 0.8424 - val_loss: 0.4156 - val_accuracy: 0.8600\n",
      "Epoch 3/30\n",
      "1719/1719 [==============================] - 4s 2ms/step - loss: 0.4171 - accuracy: 0.8534 - val_loss: 0.3995 - val_accuracy: 0.8620\n",
      "Epoch 4/30\n",
      "1719/1719 [==============================] - 4s 2ms/step - loss: 0.3937 - accuracy: 0.8636 - val_loss: 0.3967 - val_accuracy: 0.8660\n",
      "Epoch 5/30\n",
      "1719/1719 [==============================] - 4s 2ms/step - loss: 0.3777 - accuracy: 0.8674 - val_loss: 0.3664 - val_accuracy: 0.8738\n",
      "Epoch 6/30\n",
      "1719/1719 [==============================] - 4s 2ms/step - loss: 0.3627 - accuracy: 0.8743 - val_loss: 0.3574 - val_accuracy: 0.8750\n",
      "Epoch 7/30\n",
      "1719/1719 [==============================] - 4s 2ms/step - loss: 0.3508 - accuracy: 0.8772 - val_loss: 0.3657 - val_accuracy: 0.8706\n",
      "Epoch 8/30\n",
      "1719/1719 [==============================] - 4s 2ms/step - loss: 0.3384 - accuracy: 0.8797 - val_loss: 0.3498 - val_accuracy: 0.8788\n",
      "Epoch 9/30\n",
      "1719/1719 [==============================] - 4s 2ms/step - loss: 0.3328 - accuracy: 0.8816 - val_loss: 0.3577 - val_accuracy: 0.8730\n",
      "Epoch 10/30\n",
      "1719/1719 [==============================] - 4s 2ms/step - loss: 0.3284 - accuracy: 0.8840 - val_loss: 0.3413 - val_accuracy: 0.8780\n",
      "Epoch 11/30\n",
      "1719/1719 [==============================] - 4s 2ms/step - loss: 0.3172 - accuracy: 0.8895 - val_loss: 0.3344 - val_accuracy: 0.8784\n",
      "Epoch 12/30\n",
      "1719/1719 [==============================] - 4s 2ms/step - loss: 0.3117 - accuracy: 0.8907 - val_loss: 0.3269 - val_accuracy: 0.8856\n",
      "Epoch 13/30\n",
      "1719/1719 [==============================] - 4s 2ms/step - loss: 0.2979 - accuracy: 0.8932 - val_loss: 0.3377 - val_accuracy: 0.8810\n",
      "Epoch 14/30\n",
      "1719/1719 [==============================] - 4s 2ms/step - loss: 0.2926 - accuracy: 0.8966 - val_loss: 0.3302 - val_accuracy: 0.8848\n",
      "Epoch 15/30\n",
      "1719/1719 [==============================] - 4s 2ms/step - loss: 0.2876 - accuracy: 0.8981 - val_loss: 0.3244 - val_accuracy: 0.8850\n",
      "Epoch 16/30\n",
      "1719/1719 [==============================] - 3s 2ms/step - loss: 0.2884 - accuracy: 0.8978 - val_loss: 0.3370 - val_accuracy: 0.8772\n",
      "Epoch 17/30\n",
      "1719/1719 [==============================] - 4s 2ms/step - loss: 0.2739 - accuracy: 0.9025 - val_loss: 0.3446 - val_accuracy: 0.8760\n",
      "Epoch 18/30\n",
      "1719/1719 [==============================] - 3s 2ms/step - loss: 0.2681 - accuracy: 0.9039 - val_loss: 0.3285 - val_accuracy: 0.8840\n",
      "Epoch 19/30\n",
      "1719/1719 [==============================] - 4s 2ms/step - loss: 0.2653 - accuracy: 0.9059 - val_loss: 0.3163 - val_accuracy: 0.8884\n",
      "Epoch 20/30\n",
      "1719/1719 [==============================] - 4s 2ms/step - loss: 0.2581 - accuracy: 0.9061 - val_loss: 0.3170 - val_accuracy: 0.8828\n",
      "Epoch 21/30\n",
      "1719/1719 [==============================] - 4s 2ms/step - loss: 0.2552 - accuracy: 0.9088 - val_loss: 0.3167 - val_accuracy: 0.8812\n",
      "Epoch 22/30\n",
      "1719/1719 [==============================] - 4s 2ms/step - loss: 0.2548 - accuracy: 0.9093 - val_loss: 0.3056 - val_accuracy: 0.8898\n",
      "Epoch 23/30\n",
      "1719/1719 [==============================] - 4s 2ms/step - loss: 0.2489 - accuracy: 0.9104 - val_loss: 0.3160 - val_accuracy: 0.8864\n",
      "Epoch 24/30\n",
      "1719/1719 [==============================] - 4s 2ms/step - loss: 0.2447 - accuracy: 0.9116 - val_loss: 0.2970 - val_accuracy: 0.8944\n",
      "Epoch 25/30\n",
      "1719/1719 [==============================] - 3s 2ms/step - loss: 0.2415 - accuracy: 0.9126 - val_loss: 0.3111 - val_accuracy: 0.8910\n",
      "Epoch 26/30\n",
      "1719/1719 [==============================] - 4s 2ms/step - loss: 0.2355 - accuracy: 0.9155 - val_loss: 0.2979 - val_accuracy: 0.8938\n",
      "Epoch 27/30\n",
      "1719/1719 [==============================] - 4s 2ms/step - loss: 0.2310 - accuracy: 0.9166 - val_loss: 0.3111 - val_accuracy: 0.8902\n",
      "Epoch 28/30\n",
      "1719/1719 [==============================] - 4s 2ms/step - loss: 0.2244 - accuracy: 0.9193 - val_loss: 0.3121 - val_accuracy: 0.8898\n",
      "Epoch 29/30\n",
      "1719/1719 [==============================] - 4s 2ms/step - loss: 0.2180 - accuracy: 0.9213 - val_loss: 0.2933 - val_accuracy: 0.8952\n",
      "Epoch 30/30\n",
      "1719/1719 [==============================] - 4s 2ms/step - loss: 0.2216 - accuracy: 0.9196 - val_loss: 0.3091 - val_accuracy: 0.8892\n"
     ]
    }
   ],
   "source": [
    "model.compile(loss=\"sparse_categorical_crossentropy\",\n",
    "             optimizer=\"sgd\",\n",
    "             metrics=[\"accuracy\"])\n",
    "\n",
    "history = model.fit(X_train, y_train, epochs=30,\n",
    "                    validation_data=(X_valid, y_valid))"
   ]
  },
  {
   "cell_type": "code",
   "execution_count": 11,
   "metadata": {},
   "outputs": [
    {
     "data": {
      "image/png": "[encoded data removed]",
      "text/plain": [
       "<Figure size 576x360 with 1 Axes>"
      ]
     },
     "metadata": {
      "needs_background": "light"
     },
     "output_type": "display_data"
    }
   ],
   "source": [
    "import pandas as pd\n",
    "import matplotlib.pyplot as plt\n",
    "\n",
    "pd.DataFrame(history.history).plot(figsize=(8, 5))\n",
    "plt.grid(True)\n",
    "plt.gca().set_ylim(0, 1) # set the vertical range to [0-1]\n",
    "plt.show()"
   ]
  },
  {
   "cell_type": "code",
   "execution_count": 12,
   "metadata": {},
   "outputs": [
    {
     "name": "stdout",
     "output_type": "stream",
     "text": [
      "313/313 [==============================] - 0s 1ms/step - loss: 0.3389 - accuracy: 0.8792\n"
     ]
    },
    {
     "data": {
      "text/plain": [
       "[0.33893123269081116, 0.8791999816894531]"
      ]
     },
     "execution_count": 12,
     "metadata": {},
     "output_type": "execute_result"
    }
   ],
   "source": [
    "model.evaluate(X_test, y_test)"
   ]
  },
  {
   "cell_type": "code",
   "execution_count": 19,
   "metadata": {},
   "outputs": [
    {
     "data": {
      "text/plain": [
       "array([1.0000001 , 0.99999994, 1.0000001 ], dtype=float32)"
      ]
     },
     "execution_count": 19,
     "metadata": {},
     "output_type": "execute_result"
    }
   ],
   "source": [
    "X_new = X_test[:3]\n",
    "y_proba = model.predict(X_new)\n",
    "y_proba.sum(axis=1)"
   ]
  },
  {
   "cell_type": "code",
   "execution_count": 25,
   "metadata": {},
   "outputs": [
    {
     "data": {
      "text/plain": [
       "array(['Ankle boot', 'Pullover', 'Trouser'], dtype='<U11')"
      ]
     },
     "execution_count": 25,
     "metadata": {},
     "output_type": "execute_result"
    }
   ],
   "source": [
    "y_pred = model.predict_classes(X_new)\n",
    "np.array(class_names)[y_pred]"
   ]
  },
  {
   "cell_type": "markdown",
   "metadata": {},
   "source": [
    "# Building a Regression MLP Using the Sequential API"
   ]
  },
  {
   "cell_type": "code",
   "execution_count": 26,
   "metadata": {},
   "outputs": [],
   "source": [
    "from sklearn.datasets import fetch_california_housing\n",
    "from sklearn.model_selection import train_test_split\n",
    "from sklearn.preprocessing import StandardScaler\n",
    "\n",
    "housing = fetch_california_housing()\n",
    "\n",
    "X_train_full, X_test, y_train_full, y_test = train_test_split(\n",
    "    housing.data, housing.target)\n",
    "X_train, X_valid, y_train, y_valid = train_test_split(\n",
    "    X_train_full, y_train_full)\n",
    "\n",
    "scaler = StandardScaler()\n",
    "X_train = scaler.fit_transform(X_train)\n",
    "X_valid = scaler.transform(X_valid)\n",
    "X_test = scaler.transform(X_test)"
   ]
  },
  {
   "cell_type": "code",
   "execution_count": 29,
   "metadata": {
    "collapsed": true
   },
   "outputs": [
    {
     "name": "stdout",
     "output_type": "stream",
     "text": [
      "Epoch 1/20\n",
      "363/363 [==============================] - 1s 1ms/step - loss: 4.8126 - val_loss: 0.4737\n",
      "Epoch 2/20\n",
      "363/363 [==============================] - 0s 775us/step - loss: 0.4319 - val_loss: 1.1660\n",
      "Epoch 3/20\n",
      "363/363 [==============================] - 0s 807us/step - loss: 3.3978 - val_loss: 0.3973\n",
      "Epoch 4/20\n",
      "363/363 [==============================] - 0s 730us/step - loss: 0.3731 - val_loss: 0.3711\n",
      "Epoch 5/20\n",
      "363/363 [==============================] - 0s 1ms/step - loss: 0.3608 - val_loss: 0.3667\n",
      "Epoch 6/20\n",
      "363/363 [==============================] - 0s 865us/step - loss: 0.3448 - val_loss: 0.3610\n",
      "Epoch 7/20\n",
      "363/363 [==============================] - 0s 786us/step - loss: 0.3446 - val_loss: 0.3606\n",
      "Epoch 8/20\n",
      "363/363 [==============================] - 0s 788us/step - loss: 0.3400 - val_loss: 0.3649\n",
      "Epoch 9/20\n",
      "363/363 [==============================] - 0s 827us/step - loss: 0.3460 - val_loss: 0.3515\n",
      "Epoch 10/20\n",
      "363/363 [==============================] - 0s 843us/step - loss: 0.3388 - val_loss: 0.3507\n",
      "Epoch 11/20\n",
      "363/363 [==============================] - 0s 814us/step - loss: 0.3463 - val_loss: 0.3496\n",
      "Epoch 12/20\n",
      "363/363 [==============================] - 0s 752us/step - loss: 0.3522 - val_loss: 0.3524\n",
      "Epoch 13/20\n",
      "363/363 [==============================] - 0s 835us/step - loss: 0.3365 - val_loss: 0.3463\n",
      "Epoch 14/20\n",
      "363/363 [==============================] - 0s 782us/step - loss: 0.3345 - val_loss: 0.3455\n",
      "Epoch 15/20\n",
      "363/363 [==============================] - 0s 833us/step - loss: 0.3267 - val_loss: 0.3452\n",
      "Epoch 16/20\n",
      "363/363 [==============================] - 0s 832us/step - loss: 0.3262 - val_loss: 0.3434\n",
      "Epoch 17/20\n",
      "363/363 [==============================] - 0s 928us/step - loss: 0.3265 - val_loss: 0.3446\n",
      "Epoch 18/20\n",
      "363/363 [==============================] - 0s 860us/step - loss: 0.3426 - val_loss: 0.3446\n",
      "Epoch 19/20\n",
      "363/363 [==============================] - 0s 872us/step - loss: 0.3190 - val_loss: 0.3510\n",
      "Epoch 20/20\n",
      "363/363 [==============================] - 0s 911us/step - loss: 0.3396 - val_loss: 0.3422\n",
      "162/162 [==============================] - 0s 682us/step - loss: 0.3490\n"
     ]
    }
   ],
   "source": [
    "model = keras.models.Sequential([\n",
    "    keras.layers.Dense(30, activation=\"relu\", input_shape=X_train.shape[1:]),\n",
    "    keras.layers.Dense(1)    \n",
    "])\n",
    "model.compile(loss=\"mean_squared_error\", optimizer=\"sgd\")\n",
    "history = model.fit(X_train,\n",
    "    y_train,\n",
    "    epochs=20,\n",
    "    validation_data=(X_valid, y_valid)\n",
    ")\n",
    "mse_test = model.evaluate(X_test, y_test)\n",
    "X_new = X_test[:3]\n",
    "y_pred = model.predict(X_new)\n"
   ]
  },
  {
   "cell_type": "code",
   "execution_count": 32,
   "metadata": {},
   "outputs": [],
   "source": [
    "input_ = keras.layers.Input(shape=X_train.shape[1:])\n",
    "hidden1 = keras.layers.Dense(30, activation=\"relu\")(input_)\n",
    "hidden2 = keras.layers.Dense(30, activation=\"relu\")(hidden1)\n",
    "concat = keras.layers.Concatenate()([input_, hidden1])\n",
    "output = keras.layers.Dense(1)(concat)\n",
    "model = keras.Model(inputs=[input_], outputs=[output])\n"
   ]
  },
  {
   "cell_type": "code",
   "execution_count": 33,
   "metadata": {},
   "outputs": [],
   "source": [
    "input_A = keras.layers.Input(shape=[5], name=\"wide_input\")\n",
    "input_B = keras.layers.Input(shape=[6], name=\"deep_input\")\n",
    "hidden1 = keras.layers.Dense(30, activation=\"relu\")(input_B)\n",
    "hidden2 = keras.layers.Dense(30, activation=\"relu\")(hidden1)\n",
    "concat = keras.layers.concatenate([input_A, hidden2])\n",
    "output = keras.layers.Dense(1, name=\"output\")(concat)\n",
    "model = keras.Model(inputs=[input_A, input_B], outputs=[output])"
   ]
  },
  {
   "cell_type": "code",
   "execution_count": 34,
   "metadata": {},
   "outputs": [
    {
     "name": "stdout",
     "output_type": "stream",
     "text": [
      "Epoch 1/20\n",
      "363/363 [==============================] - 1s 1ms/step - loss: 3.7630 - val_loss: 0.8946\n",
      "Epoch 2/20\n",
      "363/363 [==============================] - 0s 842us/step - loss: 0.8146 - val_loss: 0.6490\n",
      "Epoch 3/20\n",
      "363/363 [==============================] - 0s 820us/step - loss: 0.6336 - val_loss: 0.5812\n",
      "Epoch 4/20\n",
      "363/363 [==============================] - 0s 971us/step - loss: 0.6007 - val_loss: 0.5444\n",
      "Epoch 5/20\n",
      "363/363 [==============================] - 0s 1ms/step - loss: 0.5405 - val_loss: 0.5205\n",
      "Epoch 6/20\n",
      "363/363 [==============================] - 0s 849us/step - loss: 0.5217 - val_loss: 0.4993\n",
      "Epoch 7/20\n",
      "363/363 [==============================] - 0s 1ms/step - loss: 0.5037 - val_loss: 0.4862\n",
      "Epoch 8/20\n",
      "363/363 [==============================] - 0s 778us/step - loss: 0.4946 - val_loss: 0.4758\n",
      "Epoch 9/20\n",
      "363/363 [==============================] - 0s 754us/step - loss: 0.4853 - val_loss: 0.4724\n",
      "Epoch 10/20\n",
      "363/363 [==============================] - 0s 792us/step - loss: 0.5039 - val_loss: 0.4666\n",
      "Epoch 11/20\n",
      "363/363 [==============================] - 0s 774us/step - loss: 0.4789 - val_loss: 0.4598\n",
      "Epoch 12/20\n",
      "363/363 [==============================] - 0s 748us/step - loss: 0.4749 - val_loss: 0.4544\n",
      "Epoch 13/20\n",
      "363/363 [==============================] - 0s 757us/step - loss: 0.4519 - val_loss: 0.4492\n",
      "Epoch 14/20\n",
      "363/363 [==============================] - 0s 775us/step - loss: 0.4585 - val_loss: 0.4502\n",
      "Epoch 15/20\n",
      "363/363 [==============================] - 0s 779us/step - loss: 0.4736 - val_loss: 0.4414\n",
      "Epoch 16/20\n",
      "363/363 [==============================] - 0s 807us/step - loss: 0.4551 - val_loss: 0.4386\n",
      "Epoch 17/20\n",
      "363/363 [==============================] - 0s 1ms/step - loss: 0.4606 - val_loss: 0.4354\n",
      "Epoch 18/20\n",
      "363/363 [==============================] - 0s 1ms/step - loss: 0.4523 - val_loss: 0.4411\n",
      "Epoch 19/20\n",
      "363/363 [==============================] - 0s 836us/step - loss: 0.4607 - val_loss: 0.4306\n",
      "Epoch 20/20\n",
      "363/363 [==============================] - 0s 759us/step - loss: 0.4715 - val_loss: 0.4365\n",
      "162/162 [==============================] - 0s 524us/step - loss: 0.4548\n"
     ]
    }
   ],
   "source": [
    "model.compile(loss=\"mse\", optimizer=keras.optimizers.SGD(lr=1e-3))\n",
    "\n",
    "X_train_A, X_train_B = X_train[:, :5], X_train[:, 2:]\n",
    "X_valid_A, X_valid_B = X_valid[:, :5], X_valid[:, 2:]\n",
    "X_test_A, X_test_B = X_test[:, :5], X_test[:, 2:]\n",
    "X_new_A, X_new_B = X_test_A[:3], X_test_B[:3]\n",
    "\n",
    "history = model.fit((X_train_A, X_train_B), y_train, epochs=20,\n",
    "                    validation_data=((X_valid_A, X_valid_B), y_valid))\n",
    "mse_test = model.evaluate((X_test_A, X_test_B), y_test)\n",
    "y_pred = model.predict((X_new_A, X_new_B))"
   ]
  },
  {
   "cell_type": "code",
   "execution_count": 35,
   "metadata": {},
   "outputs": [],
   "source": [
    "output = keras.layers.Dense(1, name=\"main_output\")(concat)\n",
    "aux_output = keras.layers.Dense(1, name=\"aux_output\")(hidden2)\n",
    "model = keras.Model(inputs=[input_A, input_B], outputs=[output, aux_output])"
   ]
  },
  {
   "cell_type": "code",
   "execution_count": 36,
   "metadata": {},
   "outputs": [],
   "source": [
    "model.compile(loss=[\"mse\", \"mse\"], loss_weights=[0.9, 0.1], optimizer=\"sgd\")"
   ]
  },
  {
   "cell_type": "code",
   "execution_count": 37,
   "metadata": {
    "collapsed": true
   },
   "outputs": [
    {
     "name": "stdout",
     "output_type": "stream",
     "text": [
      "Epoch 1/20\n",
      "363/363 [==============================] - 1s 2ms/step - loss: 1.2865 - main_output_loss: 1.1318 - aux_output_loss: 2.6789 - val_loss: 0.4990 - val_main_output_loss: 0.4514 - val_aux_output_loss: 0.9277\n",
      "Epoch 2/20\n",
      "363/363 [==============================] - 0s 982us/step - loss: 0.5442 - main_output_loss: 0.5038 - aux_output_loss: 0.9074 - val_loss: 0.4628 - val_main_output_loss: 0.4289 - val_aux_output_loss: 0.7672\n",
      "Epoch 3/20\n",
      "363/363 [==============================] - 0s 1ms/step - loss: 0.5389 - main_output_loss: 0.5145 - aux_output_loss: 0.7588 - val_loss: 0.4482 - val_main_output_loss: 0.4201 - val_aux_output_loss: 0.7008\n",
      "Epoch 4/20\n",
      "363/363 [==============================] - 0s 1ms/step - loss: 0.4609 - main_output_loss: 0.4344 - aux_output_loss: 0.7002 - val_loss: 0.4340 - val_main_output_loss: 0.4094 - val_aux_output_loss: 0.6554\n",
      "Epoch 5/20\n",
      "363/363 [==============================] - 0s 921us/step - loss: 0.4245 - main_output_loss: 0.4010 - aux_output_loss: 0.6367 - val_loss: 0.4319 - val_main_output_loss: 0.4121 - val_aux_output_loss: 0.6098\n",
      "Epoch 6/20\n",
      "363/363 [==============================] - 0s 912us/step - loss: 0.4249 - main_output_loss: 0.4054 - aux_output_loss: 0.6013 - val_loss: 0.4079 - val_main_output_loss: 0.3905 - val_aux_output_loss: 0.5649\n",
      "Epoch 7/20\n",
      "363/363 [==============================] - 0s 953us/step - loss: 0.4059 - main_output_loss: 0.3876 - aux_output_loss: 0.5706 - val_loss: 0.3976 - val_main_output_loss: 0.3812 - val_aux_output_loss: 0.5447\n",
      "Epoch 8/20\n",
      "363/363 [==============================] - 0s 894us/step - loss: 0.3993 - main_output_loss: 0.3838 - aux_output_loss: 0.5388 - val_loss: 0.3944 - val_main_output_loss: 0.3792 - val_aux_output_loss: 0.5308\n",
      "Epoch 9/20\n",
      "363/363 [==============================] - 0s 909us/step - loss: 0.3947 - main_output_loss: 0.3791 - aux_output_loss: 0.5352 - val_loss: 0.3851 - val_main_output_loss: 0.3706 - val_aux_output_loss: 0.5154\n",
      "Epoch 10/20\n",
      "363/363 [==============================] - 0s 914us/step - loss: 0.3776 - main_output_loss: 0.3635 - aux_output_loss: 0.5036 - val_loss: 0.3738 - val_main_output_loss: 0.3598 - val_aux_output_loss: 0.5000\n",
      "Epoch 11/20\n",
      "363/363 [==============================] - 0s 905us/step - loss: 0.3632 - main_output_loss: 0.3484 - aux_output_loss: 0.4965 - val_loss: 0.3816 - val_main_output_loss: 0.3689 - val_aux_output_loss: 0.4961\n",
      "Epoch 12/20\n",
      "363/363 [==============================] - 0s 895us/step - loss: 0.3860 - main_output_loss: 0.3726 - aux_output_loss: 0.5069 - val_loss: 0.3645 - val_main_output_loss: 0.3513 - val_aux_output_loss: 0.4839\n",
      "Epoch 13/20\n",
      "363/363 [==============================] - 0s 968us/step - loss: 0.3661 - main_output_loss: 0.3530 - aux_output_loss: 0.4841 - val_loss: 0.3632 - val_main_output_loss: 0.3501 - val_aux_output_loss: 0.4808\n",
      "Epoch 14/20\n",
      "363/363 [==============================] - 0s 909us/step - loss: 0.3538 - main_output_loss: 0.3409 - aux_output_loss: 0.4701 - val_loss: 0.3629 - val_main_output_loss: 0.3506 - val_aux_output_loss: 0.4738\n",
      "Epoch 15/20\n",
      "363/363 [==============================] - 0s 952us/step - loss: 0.3621 - main_output_loss: 0.3499 - aux_output_loss: 0.4720 - val_loss: 0.3637 - val_main_output_loss: 0.3521 - val_aux_output_loss: 0.4689\n",
      "Epoch 16/20\n",
      "363/363 [==============================] - 0s 890us/step - loss: 0.3551 - main_output_loss: 0.3433 - aux_output_loss: 0.4606 - val_loss: 0.3656 - val_main_output_loss: 0.3547 - val_aux_output_loss: 0.4631\n",
      "Epoch 17/20\n",
      "363/363 [==============================] - 0s 905us/step - loss: 0.3701 - main_output_loss: 0.3590 - aux_output_loss: 0.4699 - val_loss: 0.3486 - val_main_output_loss: 0.3370 - val_aux_output_loss: 0.4528\n",
      "Epoch 18/20\n",
      "363/363 [==============================] - 0s 959us/step - loss: 0.3416 - main_output_loss: 0.3302 - aux_output_loss: 0.4438 - val_loss: 0.3484 - val_main_output_loss: 0.3364 - val_aux_output_loss: 0.4563\n",
      "Epoch 19/20\n",
      "363/363 [==============================] - 0s 1ms/step - loss: 0.3612 - main_output_loss: 0.3499 - aux_output_loss: 0.4623 - val_loss: 0.3416 - val_main_output_loss: 0.3301 - val_aux_output_loss: 0.4457\n",
      "Epoch 20/20\n",
      "363/363 [==============================] - 0s 925us/step - loss: 0.3386 - main_output_loss: 0.3275 - aux_output_loss: 0.4389 - val_loss: 0.3531 - val_main_output_loss: 0.3422 - val_aux_output_loss: 0.4507\n"
     ]
    }
   ],
   "source": [
    "history = model.fit(\n",
    "    [X_train_A, X_train_B], [y_train, y_train], epochs=20,\n",
    "    validation_data=([X_valid_A, X_valid_B], [y_valid, y_valid]))"
   ]
  },
  {
   "cell_type": "code",
   "execution_count": 38,
   "metadata": {},
   "outputs": [
    {
     "name": "stdout",
     "output_type": "stream",
     "text": [
      "162/162 [==============================] - 0s 674us/step - loss: 0.3773 - main_output_loss: 0.3675 - aux_output_loss: 0.4654\n"
     ]
    }
   ],
   "source": [
    "total_loss, main_loss, aux_loss = model.evaluate(\n",
    "    [X_test_A, X_test_B], [y_test, y_test])"
   ]
  },
  {
   "cell_type": "markdown",
   "metadata": {},
   "source": [
    "# Using subclassing API to build Dynamic models"
   ]
  },
  {
   "cell_type": "code",
   "execution_count": 40,
   "metadata": {},
   "outputs": [],
   "source": [
    "class WideAndDeepModel(keras.Model):\n",
    "    def __init__(self, units=30, activation=\"relu\", **kwargs):\n",
    "        super().__init__(**kwargs)\n",
    "        self.hidden1 = keras.layers.Dense(units, activation=activation)\n",
    "        self.hidden2 = keras.layers.Dense(units, activation=activation)\n",
    "        self.main_output = keras.layers.Dense(1)\n",
    "        self.aux_output = keras.layers.Dense(1)\n",
    "        \n",
    "    def call(self, inputs):\n",
    "        inputs_A, inputs_B = inputs\n",
    "        hidden1 = self.hidden1(input_B)\n",
    "        hidden2 = self.hidden2(hidden1)\n",
    "        concat = keras.layers.Concatenate([input_A, hidden2])\n",
    "        main_output = self.main_output(concat)\n",
    "        aux_output = self.aux_output(hidden2)\n",
    "        return main_output, aux_output\n",
    "    \n",
    "model = WideAndDeepModel()"
   ]
  },
  {
   "cell_type": "markdown",
   "metadata": {},
   "source": [
    "# Saving Keras models"
   ]
  },
  {
   "cell_type": "code",
   "execution_count": 42,
   "metadata": {},
   "outputs": [],
   "source": [
    "# model = keras.models.Sequential([...]) # or keras.Model([...])\n",
    "# model.compile([...])\n",
    "# model.fit([...])\n",
    "# model.save(\"my_keras_model.h5\")"
   ]
  },
  {
   "cell_type": "code",
   "execution_count": 44,
   "metadata": {},
   "outputs": [],
   "source": [
    "# model = keras.models.load_model(\"my_keras_model.h5\")"
   ]
  },
  {
   "cell_type": "code",
   "execution_count": 46,
   "metadata": {},
   "outputs": [],
   "source": [
    "# checkpoint_cb = keras.callbacks.ModelCheckpoint(\"my_keras_model.h5\")\n",
    "# history = model.fit(X_train, y_train, epochs=10, callbacks=[checkpoint_cb])"
   ]
  },
  {
   "cell_type": "markdown",
   "metadata": {},
   "source": [
    "## custom callbacks"
   ]
  },
  {
   "cell_type": "code",
   "execution_count": 47,
   "metadata": {},
   "outputs": [],
   "source": [
    "class PrintValTrainRatioCallback(keras.callbacks.Callback):\n",
    "    def on_epoch_end(self, epoch, logs):\n",
    "        print(\"\\nval/train: {:.2f}\".format(logs[\"val_loss\"] / logs[\"loss\"]))"
   ]
  },
  {
   "cell_type": "code",
   "execution_count": 48,
   "metadata": {},
   "outputs": [],
   "source": [
    "%load_ext tensorboard"
   ]
  },
  {
   "cell_type": "markdown",
   "metadata": {},
   "source": [
    "# Fine-tune Neural Networks Hyperparameters"
   ]
  },
  {
   "cell_type": "code",
   "execution_count": 52,
   "metadata": {},
   "outputs": [],
   "source": [
    "def build_model(n_hidden=1, n_neurons=30, learning_rate=3e-3, input_shape=[8]):\n",
    "    model = keras.models.Sequential()\n",
    "    model.add(keras.layers.InputLayer(input_shape=input_shape))\n",
    "    for layer in range(n_hidden):\n",
    "        model.add(keras.layers.Dense(n_neurons, activation=\"relu\"))\n",
    "    model.add(keras.layers.Dense(1))\n",
    "    optimizer = keras.optimizers.SGD(lr=learning_rate)\n",
    "    model.compile(loss=\"mse\", optimizer=optimizer)\n",
    "    return model\n",
    "\n",
    "keras_reg = keras.wrappers.scikit_learn.KerasRegressor(build_model)"
   ]
  },
  {
   "cell_type": "code",
   "execution_count": 53,
   "metadata": {},
   "outputs": [
    {
     "name": "stdout",
     "output_type": "stream",
     "text": [
      "Epoch 1/100\n",
      "363/363 [==============================] - 1s 1ms/step - loss: 2.1329 - val_loss: 0.6313\n",
      "Epoch 2/100\n",
      "363/363 [==============================] - 0s 806us/step - loss: 0.6531 - val_loss: 0.5705\n",
      "Epoch 3/100\n",
      "363/363 [==============================] - 0s 807us/step - loss: 0.6271 - val_loss: 0.5027\n",
      "Epoch 4/100\n",
      "363/363 [==============================] - 0s 787us/step - loss: 0.5144 - val_loss: 0.4801\n",
      "Epoch 5/100\n",
      "363/363 [==============================] - 0s 1ms/step - loss: 0.4745 - val_loss: 0.4640\n",
      "Epoch 6/100\n",
      "363/363 [==============================] - 0s 1ms/step - loss: 0.4763 - val_loss: 0.4530\n",
      "Epoch 7/100\n",
      "363/363 [==============================] - 0s 829us/step - loss: 0.4654 - val_loss: 0.4471\n",
      "Epoch 8/100\n",
      "363/363 [==============================] - 0s 1ms/step - loss: 0.4398 - val_loss: 0.4373\n",
      "Epoch 9/100\n",
      "363/363 [==============================] - 0s 863us/step - loss: 0.4551 - val_loss: 0.4302\n",
      "Epoch 10/100\n",
      "363/363 [==============================] - 0s 883us/step - loss: 0.4294 - val_loss: 0.4314\n",
      "Epoch 11/100\n",
      "363/363 [==============================] - 0s 869us/step - loss: 0.4232 - val_loss: 0.4198\n",
      "Epoch 12/100\n",
      "363/363 [==============================] - 0s 906us/step - loss: 0.4289 - val_loss: 0.4367\n",
      "Epoch 13/100\n",
      "363/363 [==============================] - 1s 1ms/step - loss: 0.4291 - val_loss: 0.4131\n",
      "Epoch 14/100\n",
      "363/363 [==============================] - 0s 1ms/step - loss: 0.4117 - val_loss: 0.4131\n",
      "Epoch 15/100\n",
      "363/363 [==============================] - 0s 959us/step - loss: 0.4154 - val_loss: 0.4048\n",
      "Epoch 16/100\n",
      "363/363 [==============================] - 0s 995us/step - loss: 0.4102 - val_loss: 0.4106\n",
      "Epoch 17/100\n",
      "363/363 [==============================] - 0s 1ms/step - loss: 0.4179 - val_loss: 0.3985\n",
      "Epoch 18/100\n",
      "363/363 [==============================] - 0s 965us/step - loss: 0.3829 - val_loss: 0.3983\n",
      "Epoch 19/100\n",
      "363/363 [==============================] - 0s 883us/step - loss: 0.3927 - val_loss: 0.3940\n",
      "Epoch 20/100\n",
      "363/363 [==============================] - 0s 1ms/step - loss: 0.3893 - val_loss: 0.3915\n",
      "Epoch 21/100\n",
      "363/363 [==============================] - 0s 801us/step - loss: 0.3854 - val_loss: 0.3888\n",
      "Epoch 22/100\n",
      "363/363 [==============================] - 0s 708us/step - loss: 0.3880 - val_loss: 0.3883\n",
      "Epoch 23/100\n",
      "363/363 [==============================] - 0s 720us/step - loss: 0.3872 - val_loss: 0.3860\n",
      "Epoch 24/100\n",
      "363/363 [==============================] - 0s 832us/step - loss: 0.3939 - val_loss: 0.3840\n",
      "Epoch 25/100\n",
      "363/363 [==============================] - 0s 815us/step - loss: 0.3865 - val_loss: 0.3830\n",
      "Epoch 26/100\n",
      "363/363 [==============================] - 0s 834us/step - loss: 0.3765 - val_loss: 0.3821\n",
      "Epoch 27/100\n",
      "363/363 [==============================] - 0s 745us/step - loss: 0.3727 - val_loss: 0.3803\n",
      "Epoch 28/100\n",
      "363/363 [==============================] - 0s 832us/step - loss: 0.3627 - val_loss: 0.3785\n",
      "Epoch 29/100\n",
      "363/363 [==============================] - 0s 732us/step - loss: 0.3665 - val_loss: 0.3780\n",
      "Epoch 30/100\n",
      "363/363 [==============================] - 0s 856us/step - loss: 0.3702 - val_loss: 0.3787\n",
      "Epoch 31/100\n",
      "363/363 [==============================] - 0s 847us/step - loss: 0.3745 - val_loss: 0.3755\n",
      "Epoch 32/100\n",
      "363/363 [==============================] - 0s 762us/step - loss: 0.3731 - val_loss: 0.3763\n",
      "Epoch 33/100\n",
      "363/363 [==============================] - 0s 892us/step - loss: 0.3782 - val_loss: 0.3744\n",
      "Epoch 34/100\n",
      "363/363 [==============================] - 0s 719us/step - loss: 0.3745 - val_loss: 0.3737\n",
      "Epoch 35/100\n",
      "363/363 [==============================] - 0s 842us/step - loss: 0.3681 - val_loss: 0.3724\n",
      "Epoch 36/100\n",
      "363/363 [==============================] - 0s 797us/step - loss: 0.3922 - val_loss: 0.3715\n",
      "Epoch 37/100\n",
      "363/363 [==============================] - 0s 722us/step - loss: 0.3670 - val_loss: 0.3707\n",
      "Epoch 38/100\n",
      "363/363 [==============================] - 0s 721us/step - loss: 0.3589 - val_loss: 0.3701\n",
      "Epoch 39/100\n",
      "363/363 [==============================] - 0s 722us/step - loss: 0.3730 - val_loss: 0.3690\n",
      "Epoch 40/100\n",
      "363/363 [==============================] - 0s 995us/step - loss: 0.3758 - val_loss: 0.3680\n",
      "Epoch 41/100\n",
      "363/363 [==============================] - 0s 818us/step - loss: 0.3675 - val_loss: 0.3719\n",
      "Epoch 42/100\n",
      "363/363 [==============================] - 0s 847us/step - loss: 0.3686 - val_loss: 0.3722\n",
      "Epoch 43/100\n",
      "363/363 [==============================] - 0s 892us/step - loss: 0.3709 - val_loss: 0.3653\n",
      "Epoch 44/100\n",
      "363/363 [==============================] - 0s 872us/step - loss: 0.3766 - val_loss: 0.3649\n",
      "Epoch 45/100\n",
      "363/363 [==============================] - 0s 885us/step - loss: 0.3584 - val_loss: 0.3635\n",
      "Epoch 46/100\n",
      "363/363 [==============================] - 0s 841us/step - loss: 0.3744 - val_loss: 0.3647\n",
      "Epoch 47/100\n",
      "363/363 [==============================] - 0s 834us/step - loss: 0.3599 - val_loss: 0.3627\n",
      "Epoch 48/100\n",
      "363/363 [==============================] - 0s 845us/step - loss: 0.3544 - val_loss: 0.3633\n",
      "Epoch 49/100\n",
      "363/363 [==============================] - 0s 822us/step - loss: 0.3628 - val_loss: 0.3621\n",
      "Epoch 50/100\n",
      "363/363 [==============================] - 0s 791us/step - loss: 0.3684 - val_loss: 0.3618\n",
      "Epoch 51/100\n",
      "363/363 [==============================] - 0s 767us/step - loss: 0.3444 - val_loss: 0.3637\n",
      "Epoch 52/100\n",
      "363/363 [==============================] - 0s 824us/step - loss: 0.3394 - val_loss: 0.3616\n",
      "Epoch 53/100\n",
      "363/363 [==============================] - 0s 735us/step - loss: 0.3612 - val_loss: 0.3603\n",
      "Epoch 54/100\n",
      "363/363 [==============================] - 0s 891us/step - loss: 0.3708 - val_loss: 0.3607\n",
      "Epoch 55/100\n",
      "363/363 [==============================] - 0s 754us/step - loss: 0.3692 - val_loss: 0.3599\n",
      "Epoch 56/100\n",
      "363/363 [==============================] - 0s 813us/step - loss: 0.3474 - val_loss: 0.3592\n",
      "Epoch 57/100\n",
      "363/363 [==============================] - 0s 808us/step - loss: 0.3614 - val_loss: 0.3581\n",
      "Epoch 58/100\n",
      "363/363 [==============================] - 0s 775us/step - loss: 0.3480 - val_loss: 0.3593\n",
      "Epoch 59/100\n",
      "363/363 [==============================] - 0s 740us/step - loss: 0.3485 - val_loss: 0.3554\n",
      "Epoch 60/100\n",
      "363/363 [==============================] - 0s 807us/step - loss: 0.3524 - val_loss: 0.3639\n",
      "Epoch 61/100\n",
      "363/363 [==============================] - 0s 749us/step - loss: 0.3782 - val_loss: 0.3548\n",
      "Epoch 62/100\n",
      "363/363 [==============================] - 0s 790us/step - loss: 0.3989 - val_loss: 0.3597\n",
      "Epoch 63/100\n",
      "363/363 [==============================] - 0s 751us/step - loss: 0.3516 - val_loss: 0.3678\n",
      "Epoch 64/100\n",
      "363/363 [==============================] - 0s 754us/step - loss: 0.4039 - val_loss: 0.3558\n",
      "Epoch 65/100\n",
      "363/363 [==============================] - 0s 862us/step - loss: 0.3469 - val_loss: 0.3544\n",
      "Epoch 66/100\n",
      "363/363 [==============================] - 0s 735us/step - loss: 0.3382 - val_loss: 0.3554\n",
      "Epoch 67/100\n",
      "363/363 [==============================] - 0s 746us/step - loss: 0.3600 - val_loss: 0.3538\n",
      "Epoch 68/100\n",
      "363/363 [==============================] - 0s 787us/step - loss: 0.3495 - val_loss: 0.3531\n",
      "Epoch 69/100\n",
      "363/363 [==============================] - 0s 754us/step - loss: 0.3512 - val_loss: 0.3529\n",
      "Epoch 70/100\n",
      "363/363 [==============================] - 0s 759us/step - loss: 0.3460 - val_loss: 0.3534\n",
      "Epoch 71/100\n",
      "363/363 [==============================] - 0s 736us/step - loss: 0.3551 - val_loss: 0.3526\n",
      "Epoch 72/100\n",
      "363/363 [==============================] - 0s 840us/step - loss: 0.3523 - val_loss: 0.3514\n",
      "Epoch 73/100\n",
      "363/363 [==============================] - 0s 707us/step - loss: 0.3616 - val_loss: 0.3511\n",
      "Epoch 74/100\n",
      "363/363 [==============================] - 0s 751us/step - loss: 0.3555 - val_loss: 0.3505\n",
      "Epoch 75/100\n",
      "363/363 [==============================] - 0s 917us/step - loss: 0.3438 - val_loss: 0.3500\n",
      "Epoch 76/100\n",
      "363/363 [==============================] - 0s 754us/step - loss: 0.3534 - val_loss: 0.3502\n",
      "Epoch 77/100\n",
      "363/363 [==============================] - 0s 739us/step - loss: 0.3394 - val_loss: 0.3520\n",
      "Epoch 78/100\n",
      "363/363 [==============================] - 0s 796us/step - loss: 0.3457 - val_loss: 0.3503\n",
      "Epoch 79/100\n",
      "363/363 [==============================] - 0s 964us/step - loss: 0.3385 - val_loss: 0.3493\n",
      "Epoch 80/100\n"
     ]
    },
    {
     "name": "stdout",
     "output_type": "stream",
     "text": [
      "363/363 [==============================] - 0s 860us/step - loss: 0.3520 - val_loss: 0.3481\n",
      "Epoch 81/100\n",
      "363/363 [==============================] - 0s 752us/step - loss: 0.3441 - val_loss: 0.3484\n",
      "Epoch 82/100\n",
      "363/363 [==============================] - 0s 883us/step - loss: 0.3466 - val_loss: 0.3495\n",
      "Epoch 83/100\n",
      "363/363 [==============================] - 0s 767us/step - loss: 0.3356 - val_loss: 0.3495\n",
      "Epoch 84/100\n",
      "363/363 [==============================] - 0s 758us/step - loss: 0.3546 - val_loss: 0.3496\n",
      "Epoch 85/100\n",
      "363/363 [==============================] - 0s 785us/step - loss: 0.3723 - val_loss: 0.3494\n",
      "Epoch 86/100\n",
      "363/363 [==============================] - 0s 751us/step - loss: 0.3542 - val_loss: 0.3485\n",
      "Epoch 87/100\n",
      "363/363 [==============================] - 0s 781us/step - loss: 0.3331 - val_loss: 0.3475\n",
      "Epoch 88/100\n",
      "363/363 [==============================] - 0s 771us/step - loss: 0.3429 - val_loss: 0.3471\n",
      "Epoch 89/100\n",
      "363/363 [==============================] - 0s 844us/step - loss: 0.3529 - val_loss: 0.3474\n",
      "Epoch 90/100\n",
      "363/363 [==============================] - 0s 768us/step - loss: 0.3452 - val_loss: 0.3469\n",
      "Epoch 91/100\n",
      "363/363 [==============================] - 0s 773us/step - loss: 0.3348 - val_loss: 0.3466\n",
      "Epoch 92/100\n",
      "363/363 [==============================] - 0s 781us/step - loss: 0.3360 - val_loss: 0.3473\n",
      "Epoch 93/100\n",
      "363/363 [==============================] - 0s 747us/step - loss: 0.3442 - val_loss: 0.3448\n",
      "Epoch 94/100\n",
      "363/363 [==============================] - 0s 753us/step - loss: 0.3618 - val_loss: 0.3454\n",
      "Epoch 95/100\n",
      "363/363 [==============================] - 0s 804us/step - loss: 0.3310 - val_loss: 0.3448\n",
      "Epoch 96/100\n",
      "363/363 [==============================] - 0s 824us/step - loss: 0.3308 - val_loss: 0.3440\n",
      "Epoch 97/100\n",
      "363/363 [==============================] - 0s 777us/step - loss: 0.3351 - val_loss: 0.3433\n",
      "Epoch 98/100\n",
      "363/363 [==============================] - 0s 759us/step - loss: 0.3457 - val_loss: 0.3448\n",
      "Epoch 99/100\n",
      "363/363 [==============================] - 0s 770us/step - loss: 0.3324 - val_loss: 0.3431\n",
      "Epoch 100/100\n",
      "363/363 [==============================] - 0s 697us/step - loss: 0.3392 - val_loss: 0.3435\n",
      "162/162 [==============================] - 0s 585us/step - loss: 0.3545\n"
     ]
    }
   ],
   "source": [
    "keras_reg.fit(X_train, y_train, epochs=100,\n",
    "              validation_data=(X_valid, y_valid),\n",
    "              callbacks=[keras.callbacks.EarlyStopping(patience=10)])\n",
    "mse_test = keras_reg.score(X_test, y_test)\n",
    "y_pred = keras_reg.predict(X_new)"
   ]
  },
  {
   "cell_type": "code",
   "execution_count": 56,
   "metadata": {
    "collapsed": true
   },
   "outputs": [
    {
     "name": "stdout",
     "output_type": "stream",
     "text": [
      "Epoch 1/100\n",
      "242/242 [==============================] - 1s 1ms/step - loss: 5.0536 - val_loss: 2.8956\n",
      "Epoch 2/100\n",
      "242/242 [==============================] - 0s 959us/step - loss: 2.7608 - val_loss: 1.8056\n",
      "Epoch 3/100\n",
      "242/242 [==============================] - 0s 980us/step - loss: 1.6614 - val_loss: 1.2923\n",
      "Epoch 4/100\n",
      "242/242 [==============================] - 0s 946us/step - loss: 1.2164 - val_loss: 0.9854\n",
      "Epoch 5/100\n",
      "242/242 [==============================] - 0s 1ms/step - loss: 0.9443 - val_loss: 0.8154\n",
      "Epoch 6/100\n",
      "242/242 [==============================] - 0s 2ms/step - loss: 0.7776 - val_loss: 0.7208\n",
      "Epoch 7/100\n",
      "242/242 [==============================] - 0s 1ms/step - loss: 0.7223 - val_loss: 0.6684\n",
      "Epoch 8/100\n",
      "242/242 [==============================] - 0s 951us/step - loss: 0.6480 - val_loss: 0.6392\n",
      "Epoch 9/100\n",
      "242/242 [==============================] - 0s 1ms/step - loss: 0.6386 - val_loss: 0.6208\n",
      "Epoch 10/100\n",
      "242/242 [==============================] - 0s 867us/step - loss: 0.6222 - val_loss: 0.6081\n",
      "Epoch 11/100\n",
      "242/242 [==============================] - 0s 886us/step - loss: 0.5972 - val_loss: 0.5981\n",
      "Epoch 12/100\n",
      "242/242 [==============================] - 0s 932us/step - loss: 0.6104 - val_loss: 0.5896\n",
      "Epoch 13/100\n",
      "242/242 [==============================] - 0s 912us/step - loss: 0.5866 - val_loss: 0.5815\n",
      "Epoch 14/100\n",
      "242/242 [==============================] - 0s 947us/step - loss: 0.5789 - val_loss: 0.5743\n",
      "Epoch 15/100\n",
      "242/242 [==============================] - 0s 867us/step - loss: 0.5725 - val_loss: 0.5676\n",
      "Epoch 16/100\n",
      "242/242 [==============================] - 0s 894us/step - loss: 0.5472 - val_loss: 0.5613\n",
      "Epoch 17/100\n",
      "242/242 [==============================] - 0s 903us/step - loss: 0.5474 - val_loss: 0.5552\n",
      "Epoch 18/100\n",
      "242/242 [==============================] - 0s 897us/step - loss: 0.5412 - val_loss: 0.5494\n",
      "Epoch 19/100\n",
      "242/242 [==============================] - 0s 869us/step - loss: 0.5473 - val_loss: 0.5439\n",
      "Epoch 20/100\n",
      "242/242 [==============================] - 0s 844us/step - loss: 0.5361 - val_loss: 0.5386\n",
      "Epoch 21/100\n",
      "242/242 [==============================] - 0s 880us/step - loss: 0.5469 - val_loss: 0.5333\n",
      "Epoch 22/100\n",
      "242/242 [==============================] - 0s 887us/step - loss: 0.5145 - val_loss: 0.5284\n",
      "Epoch 23/100\n",
      "242/242 [==============================] - 0s 881us/step - loss: 0.5305 - val_loss: 0.5240\n",
      "Epoch 24/100\n",
      "242/242 [==============================] - 0s 856us/step - loss: 0.4957 - val_loss: 0.5196\n",
      "Epoch 25/100\n",
      "242/242 [==============================] - 0s 854us/step - loss: 0.5022 - val_loss: 0.5155\n",
      "Epoch 26/100\n",
      "242/242 [==============================] - 0s 861us/step - loss: 0.4945 - val_loss: 0.5113\n",
      "Epoch 27/100\n",
      "242/242 [==============================] - 0s 875us/step - loss: 0.4747 - val_loss: 0.5075\n",
      "Epoch 28/100\n",
      "242/242 [==============================] - 0s 861us/step - loss: 0.5255 - val_loss: 0.5036\n",
      "Epoch 29/100\n",
      "242/242 [==============================] - 0s 877us/step - loss: 0.4773 - val_loss: 0.4999\n",
      "Epoch 30/100\n",
      "242/242 [==============================] - 0s 869us/step - loss: 0.4846 - val_loss: 0.4965\n",
      "Epoch 31/100\n",
      "242/242 [==============================] - 0s 891us/step - loss: 0.4646 - val_loss: 0.4932\n",
      "Epoch 32/100\n",
      "242/242 [==============================] - 0s 882us/step - loss: 0.4758 - val_loss: 0.4901\n",
      "Epoch 33/100\n",
      "242/242 [==============================] - 0s 885us/step - loss: 0.4897 - val_loss: 0.4871\n",
      "Epoch 34/100\n",
      "242/242 [==============================] - 0s 906us/step - loss: 0.4615 - val_loss: 0.4840\n",
      "Epoch 35/100\n",
      "242/242 [==============================] - 0s 864us/step - loss: 0.4898 - val_loss: 0.4816\n",
      "Epoch 36/100\n",
      "242/242 [==============================] - 0s 864us/step - loss: 0.4645 - val_loss: 0.4789\n",
      "Epoch 37/100\n",
      "242/242 [==============================] - 0s 907us/step - loss: 0.4848 - val_loss: 0.4766\n",
      "Epoch 38/100\n",
      "242/242 [==============================] - 0s 892us/step - loss: 0.4638 - val_loss: 0.4739\n",
      "Epoch 39/100\n",
      "242/242 [==============================] - 0s 933us/step - loss: 0.4917 - val_loss: 0.4719\n",
      "Epoch 40/100\n",
      "242/242 [==============================] - 0s 1ms/step - loss: 0.4594 - val_loss: 0.4694\n",
      "Epoch 41/100\n",
      "242/242 [==============================] - 0s 891us/step - loss: 0.4667 - val_loss: 0.4671\n",
      "Epoch 42/100\n",
      "242/242 [==============================] - 0s 875us/step - loss: 0.4526 - val_loss: 0.4650\n",
      "Epoch 43/100\n",
      "242/242 [==============================] - 0s 912us/step - loss: 0.4609 - val_loss: 0.4633\n",
      "Epoch 44/100\n",
      "242/242 [==============================] - 0s 881us/step - loss: 0.4692 - val_loss: 0.4611\n",
      "Epoch 45/100\n",
      "242/242 [==============================] - 0s 896us/step - loss: 0.4451 - val_loss: 0.4591\n",
      "Epoch 46/100\n",
      "242/242 [==============================] - 0s 856us/step - loss: 0.4394 - val_loss: 0.4575\n",
      "Epoch 47/100\n",
      "242/242 [==============================] - 0s 879us/step - loss: 0.4666 - val_loss: 0.4560\n",
      "Epoch 48/100\n",
      "242/242 [==============================] - 0s 880us/step - loss: 0.4233 - val_loss: 0.4539\n",
      "Epoch 49/100\n",
      "242/242 [==============================] - 0s 865us/step - loss: 0.4408 - val_loss: 0.4525\n",
      "Epoch 50/100\n",
      "242/242 [==============================] - 0s 824us/step - loss: 0.4457 - val_loss: 0.4511\n",
      "Epoch 51/100\n",
      "242/242 [==============================] - 0s 834us/step - loss: 0.4492 - val_loss: 0.4495\n",
      "Epoch 52/100\n",
      "242/242 [==============================] - 0s 824us/step - loss: 0.4415 - val_loss: 0.4478\n",
      "Epoch 53/100\n",
      "242/242 [==============================] - 0s 862us/step - loss: 0.4336 - val_loss: 0.4464\n",
      "Epoch 54/100\n",
      "242/242 [==============================] - 0s 900us/step - loss: 0.4422 - val_loss: 0.4452\n",
      "Epoch 55/100\n",
      "242/242 [==============================] - 0s 820us/step - loss: 0.4313 - val_loss: 0.4438\n",
      "Epoch 56/100\n",
      "242/242 [==============================] - 0s 809us/step - loss: 0.4226 - val_loss: 0.4424\n",
      "Epoch 57/100\n",
      "242/242 [==============================] - 0s 807us/step - loss: 0.4297 - val_loss: 0.4415\n",
      "Epoch 58/100\n",
      "242/242 [==============================] - 0s 772us/step - loss: 0.4387 - val_loss: 0.4401\n",
      "Epoch 59/100\n",
      "242/242 [==============================] - 0s 833us/step - loss: 0.4344 - val_loss: 0.4386\n",
      "Epoch 60/100\n",
      "242/242 [==============================] - 0s 804us/step - loss: 0.4304 - val_loss: 0.4379\n",
      "Epoch 61/100\n",
      "242/242 [==============================] - 0s 784us/step - loss: 0.4317 - val_loss: 0.4365\n",
      "Epoch 62/100\n",
      "242/242 [==============================] - 0s 811us/step - loss: 0.4145 - val_loss: 0.4355\n",
      "Epoch 63/100\n",
      "242/242 [==============================] - 0s 785us/step - loss: 0.4360 - val_loss: 0.4346\n",
      "Epoch 64/100\n",
      "242/242 [==============================] - 0s 870us/step - loss: 0.4354 - val_loss: 0.4336\n",
      "Epoch 65/100\n",
      "242/242 [==============================] - 0s 825us/step - loss: 0.3983 - val_loss: 0.4326\n",
      "Epoch 66/100\n",
      "242/242 [==============================] - 0s 796us/step - loss: 0.4066 - val_loss: 0.4313\n",
      "Epoch 67/100\n",
      "242/242 [==============================] - 0s 822us/step - loss: 0.4381 - val_loss: 0.4305\n",
      "Epoch 68/100\n",
      "242/242 [==============================] - 0s 821us/step - loss: 0.4167 - val_loss: 0.4297\n",
      "Epoch 69/100\n",
      "242/242 [==============================] - 0s 875us/step - loss: 0.4118 - val_loss: 0.4286\n",
      "Epoch 70/100\n",
      "242/242 [==============================] - 0s 827us/step - loss: 0.4131 - val_loss: 0.4277\n",
      "Epoch 71/100\n",
      "242/242 [==============================] - 0s 833us/step - loss: 0.4306 - val_loss: 0.4275\n",
      "Epoch 72/100\n",
      "242/242 [==============================] - 0s 800us/step - loss: 0.4068 - val_loss: 0.4263\n",
      "Epoch 73/100\n",
      "242/242 [==============================] - 0s 806us/step - loss: 0.4071 - val_loss: 0.4257\n",
      "Epoch 74/100\n",
      "242/242 [==============================] - 0s 1ms/step - loss: 0.4205 - val_loss: 0.4250\n",
      "Epoch 75/100\n",
      "242/242 [==============================] - 0s 834us/step - loss: 0.4364 - val_loss: 0.4244\n",
      "Epoch 76/100\n",
      "242/242 [==============================] - 0s 833us/step - loss: 0.4116 - val_loss: 0.4235\n",
      "Epoch 77/100\n",
      "242/242 [==============================] - 0s 797us/step - loss: 0.4128 - val_loss: 0.4229\n",
      "Epoch 78/100\n",
      "242/242 [==============================] - 0s 784us/step - loss: 0.4140 - val_loss: 0.4223\n",
      "Epoch 79/100\n",
      "242/242 [==============================] - 0s 793us/step - loss: 0.4096 - val_loss: 0.4216\n"
     ]
    },
    {
     "name": "stdout",
     "output_type": "stream",
     "text": [
      "Epoch 80/100\n",
      "242/242 [==============================] - 0s 804us/step - loss: 0.4147 - val_loss: 0.4209\n",
      "Epoch 81/100\n",
      "242/242 [==============================] - 0s 777us/step - loss: 0.4023 - val_loss: 0.4202\n",
      "Epoch 82/100\n",
      "242/242 [==============================] - 0s 754us/step - loss: 0.4228 - val_loss: 0.4195\n",
      "Epoch 83/100\n",
      "242/242 [==============================] - 0s 757us/step - loss: 0.4095 - val_loss: 0.4191\n",
      "Epoch 84/100\n",
      "242/242 [==============================] - 0s 770us/step - loss: 0.4011 - val_loss: 0.4183\n",
      "Epoch 85/100\n",
      "242/242 [==============================] - 0s 784us/step - loss: 0.4123 - val_loss: 0.4174\n",
      "Epoch 86/100\n",
      "242/242 [==============================] - 0s 768us/step - loss: 0.4026 - val_loss: 0.4171\n",
      "Epoch 87/100\n",
      "242/242 [==============================] - 0s 768us/step - loss: 0.3976 - val_loss: 0.4165\n",
      "Epoch 88/100\n",
      "242/242 [==============================] - 0s 764us/step - loss: 0.4038 - val_loss: 0.4160\n",
      "Epoch 89/100\n",
      "242/242 [==============================] - 0s 758us/step - loss: 0.3971 - val_loss: 0.4150\n",
      "Epoch 90/100\n",
      "242/242 [==============================] - 0s 806us/step - loss: 0.4141 - val_loss: 0.4147\n",
      "Epoch 91/100\n",
      "242/242 [==============================] - 0s 765us/step - loss: 0.4203 - val_loss: 0.4140\n",
      "Epoch 92/100\n",
      "242/242 [==============================] - 0s 783us/step - loss: 0.4033 - val_loss: 0.4137\n",
      "Epoch 93/100\n",
      "242/242 [==============================] - 0s 764us/step - loss: 0.4180 - val_loss: 0.4132\n",
      "Epoch 94/100\n",
      "242/242 [==============================] - 0s 770us/step - loss: 0.4025 - val_loss: 0.4125\n",
      "Epoch 95/100\n",
      "242/242 [==============================] - 0s 794us/step - loss: 0.3956 - val_loss: 0.4120\n",
      "Epoch 96/100\n",
      "242/242 [==============================] - 0s 802us/step - loss: 0.3985 - val_loss: 0.4117\n",
      "Epoch 97/100\n",
      "242/242 [==============================] - 0s 759us/step - loss: 0.3864 - val_loss: 0.4112\n",
      "Epoch 98/100\n",
      "242/242 [==============================] - 0s 780us/step - loss: 0.4203 - val_loss: 0.4106\n",
      "Epoch 99/100\n",
      "242/242 [==============================] - 0s 762us/step - loss: 0.3902 - val_loss: 0.4102\n",
      "Epoch 100/100\n",
      "242/242 [==============================] - 0s 772us/step - loss: 0.3940 - val_loss: 0.4095\n",
      "121/121 [==============================] - 0s 472us/step - loss: 0.4365\n",
      "Epoch 1/100\n",
      "242/242 [==============================] - 0s 1ms/step - loss: 4.9384 - val_loss: 2.5035\n",
      "Epoch 2/100\n",
      "242/242 [==============================] - 0s 781us/step - loss: 2.3183 - val_loss: 1.4107\n",
      "Epoch 3/100\n",
      "242/242 [==============================] - 0s 803us/step - loss: 1.3686 - val_loss: 1.0617\n",
      "Epoch 4/100\n",
      "242/242 [==============================] - 0s 1ms/step - loss: 1.1758 - val_loss: 0.9012\n",
      "Epoch 5/100\n",
      "242/242 [==============================] - 0s 833us/step - loss: 0.9107 - val_loss: 0.8168\n",
      "Epoch 6/100\n",
      "242/242 [==============================] - 0s 760us/step - loss: 0.8289 - val_loss: 0.7596\n",
      "Epoch 7/100\n",
      "242/242 [==============================] - 0s 740us/step - loss: 0.7631 - val_loss: 0.7232\n",
      "Epoch 8/100\n",
      "242/242 [==============================] - 0s 785us/step - loss: 0.7213 - val_loss: 0.6982\n",
      "Epoch 9/100\n",
      "242/242 [==============================] - 0s 779us/step - loss: 0.7637 - val_loss: 0.6791\n",
      "Epoch 10/100\n",
      "242/242 [==============================] - 0s 768us/step - loss: 0.7185 - val_loss: 0.6648\n",
      "Epoch 11/100\n",
      "242/242 [==============================] - 0s 772us/step - loss: 0.7059 - val_loss: 0.6525\n",
      "Epoch 12/100\n",
      "242/242 [==============================] - 0s 779us/step - loss: 0.6836 - val_loss: 0.6425\n",
      "Epoch 13/100\n",
      "242/242 [==============================] - 0s 790us/step - loss: 0.6633 - val_loss: 0.6334\n",
      "Epoch 14/100\n",
      "242/242 [==============================] - 0s 775us/step - loss: 0.6656 - val_loss: 0.6251\n",
      "Epoch 15/100\n",
      "242/242 [==============================] - 0s 766us/step - loss: 0.6414 - val_loss: 0.6173\n",
      "Epoch 16/100\n",
      "242/242 [==============================] - 0s 789us/step - loss: 0.6612 - val_loss: 0.6103\n",
      "Epoch 17/100\n",
      "242/242 [==============================] - 0s 766us/step - loss: 0.6303 - val_loss: 0.6036\n",
      "Epoch 18/100\n",
      "242/242 [==============================] - 0s 767us/step - loss: 0.6393 - val_loss: 0.5971\n",
      "Epoch 19/100\n",
      "242/242 [==============================] - 0s 787us/step - loss: 0.6604 - val_loss: 0.5910\n",
      "Epoch 20/100\n",
      "242/242 [==============================] - 0s 826us/step - loss: 0.6401 - val_loss: 0.5853\n",
      "Epoch 21/100\n",
      "242/242 [==============================] - 0s 823us/step - loss: 0.6256 - val_loss: 0.5797\n",
      "Epoch 22/100\n",
      "242/242 [==============================] - 0s 796us/step - loss: 0.6145 - val_loss: 0.5744\n",
      "Epoch 23/100\n",
      "242/242 [==============================] - 0s 784us/step - loss: 0.5903 - val_loss: 0.5695\n",
      "Epoch 24/100\n",
      "242/242 [==============================] - 0s 755us/step - loss: 0.6105 - val_loss: 0.5644\n",
      "Epoch 25/100\n",
      "242/242 [==============================] - 0s 738us/step - loss: 0.5870 - val_loss: 0.5598\n",
      "Epoch 26/100\n",
      "242/242 [==============================] - 0s 774us/step - loss: 0.6109 - val_loss: 0.5552\n",
      "Epoch 27/100\n",
      "242/242 [==============================] - 0s 776us/step - loss: 0.5676 - val_loss: 0.5512\n",
      "Epoch 28/100\n",
      "242/242 [==============================] - 0s 769us/step - loss: 0.5659 - val_loss: 0.5470\n",
      "Epoch 29/100\n",
      "242/242 [==============================] - 0s 790us/step - loss: 0.5772 - val_loss: 0.5430\n",
      "Epoch 30/100\n",
      "242/242 [==============================] - 0s 773us/step - loss: 0.5742 - val_loss: 0.5392\n",
      "Epoch 31/100\n",
      "242/242 [==============================] - 0s 760us/step - loss: 0.5689 - val_loss: 0.5354\n",
      "Epoch 32/100\n",
      "242/242 [==============================] - 0s 782us/step - loss: 0.5574 - val_loss: 0.5318\n",
      "Epoch 33/100\n",
      "242/242 [==============================] - 0s 785us/step - loss: 0.5764 - val_loss: 0.5283\n",
      "Epoch 34/100\n",
      "242/242 [==============================] - 0s 768us/step - loss: 0.5231 - val_loss: 0.5250\n",
      "Epoch 35/100\n",
      "242/242 [==============================] - 0s 774us/step - loss: 0.5611 - val_loss: 0.5219\n",
      "Epoch 36/100\n",
      "242/242 [==============================] - 0s 790us/step - loss: 0.5510 - val_loss: 0.5187\n",
      "Epoch 37/100\n",
      "242/242 [==============================] - 0s 1ms/step - loss: 0.5585 - val_loss: 0.5157\n",
      "Epoch 38/100\n",
      "242/242 [==============================] - 0s 758us/step - loss: 0.5345 - val_loss: 0.5127\n",
      "Epoch 39/100\n",
      "242/242 [==============================] - 0s 818us/step - loss: 0.5443 - val_loss: 0.5099\n",
      "Epoch 40/100\n",
      "242/242 [==============================] - 0s 1ms/step - loss: 0.5095 - val_loss: 0.5073\n",
      "Epoch 41/100\n",
      "242/242 [==============================] - 0s 903us/step - loss: 0.5295 - val_loss: 0.5046\n",
      "Epoch 42/100\n",
      "242/242 [==============================] - 0s 840us/step - loss: 0.5063 - val_loss: 0.5021\n",
      "Epoch 43/100\n",
      "242/242 [==============================] - 0s 858us/step - loss: 0.5145 - val_loss: 0.4995\n",
      "Epoch 44/100\n",
      "242/242 [==============================] - 0s 869us/step - loss: 0.5318 - val_loss: 0.4971\n",
      "Epoch 45/100\n",
      "242/242 [==============================] - 0s 779us/step - loss: 0.5340 - val_loss: 0.4947\n",
      "Epoch 46/100\n",
      "242/242 [==============================] - 0s 1ms/step - loss: 0.5330 - val_loss: 0.4924\n",
      "Epoch 47/100\n",
      "242/242 [==============================] - 0s 1ms/step - loss: 0.5204 - val_loss: 0.4903\n",
      "Epoch 48/100\n",
      "242/242 [==============================] - 0s 1ms/step - loss: 0.5165 - val_loss: 0.4882\n",
      "Epoch 49/100\n",
      "242/242 [==============================] - 0s 916us/step - loss: 0.5088 - val_loss: 0.4861\n",
      "Epoch 50/100\n",
      "242/242 [==============================] - 0s 961us/step - loss: 0.4999 - val_loss: 0.4841\n",
      "Epoch 51/100\n",
      "242/242 [==============================] - 0s 1ms/step - loss: 0.4872 - val_loss: 0.4820\n",
      "Epoch 52/100\n",
      "242/242 [==============================] - 0s 843us/step - loss: 0.5212 - val_loss: 0.4803\n",
      "Epoch 53/100\n",
      "242/242 [==============================] - 0s 858us/step - loss: 0.5121 - val_loss: 0.4784\n",
      "Epoch 54/100\n",
      "242/242 [==============================] - 0s 938us/step - loss: 0.4820 - val_loss: 0.4768\n",
      "Epoch 55/100\n",
      "242/242 [==============================] - 0s 939us/step - loss: 0.4934 - val_loss: 0.4750\n",
      "Epoch 56/100\n",
      "242/242 [==============================] - 0s 873us/step - loss: 0.5110 - val_loss: 0.4732\n",
      "Epoch 57/100\n",
      "242/242 [==============================] - 0s 1ms/step - loss: 0.4838 - val_loss: 0.4714\n",
      "Epoch 58/100\n"
     ]
    },
    {
     "name": "stdout",
     "output_type": "stream",
     "text": [
      "242/242 [==============================] - 0s 931us/step - loss: 0.5111 - val_loss: 0.4697\n",
      "Epoch 59/100\n",
      "242/242 [==============================] - 0s 809us/step - loss: 0.4967 - val_loss: 0.4682\n",
      "Epoch 60/100\n",
      "242/242 [==============================] - 0s 850us/step - loss: 0.4898 - val_loss: 0.4667\n",
      "Epoch 61/100\n",
      "242/242 [==============================] - 0s 1ms/step - loss: 0.5085 - val_loss: 0.4651\n",
      "Epoch 62/100\n",
      "242/242 [==============================] - 0s 843us/step - loss: 0.5010 - val_loss: 0.4637\n",
      "Epoch 63/100\n",
      "242/242 [==============================] - 0s 1ms/step - loss: 0.4858 - val_loss: 0.4622\n",
      "Epoch 64/100\n",
      "242/242 [==============================] - 0s 912us/step - loss: 0.4973 - val_loss: 0.4607\n",
      "Epoch 65/100\n",
      "242/242 [==============================] - 0s 881us/step - loss: 0.4654 - val_loss: 0.4594\n",
      "Epoch 66/100\n",
      "242/242 [==============================] - 0s 819us/step - loss: 0.4485 - val_loss: 0.4581\n",
      "Epoch 67/100\n",
      "242/242 [==============================] - 0s 843us/step - loss: 0.4775 - val_loss: 0.4567\n",
      "Epoch 68/100\n",
      "242/242 [==============================] - 0s 897us/step - loss: 0.4791 - val_loss: 0.4554\n",
      "Epoch 69/100\n",
      "242/242 [==============================] - 0s 1ms/step - loss: 0.4724 - val_loss: 0.4542\n",
      "Epoch 70/100\n",
      "242/242 [==============================] - 0s 842us/step - loss: 0.4837 - val_loss: 0.4530\n",
      "Epoch 71/100\n",
      "242/242 [==============================] - 0s 840us/step - loss: 0.4525 - val_loss: 0.4518\n",
      "Epoch 72/100\n",
      "242/242 [==============================] - 0s 1ms/step - loss: 0.5074 - val_loss: 0.4506\n",
      "Epoch 73/100\n",
      "242/242 [==============================] - 0s 1ms/step - loss: 0.4702 - val_loss: 0.4492\n",
      "Epoch 74/100\n",
      "242/242 [==============================] - 0s 898us/step - loss: 0.4556 - val_loss: 0.4481\n",
      "Epoch 75/100\n",
      "242/242 [==============================] - 0s 1ms/step - loss: 0.4492 - val_loss: 0.4470\n",
      "Epoch 76/100\n",
      "242/242 [==============================] - 0s 833us/step - loss: 0.4742 - val_loss: 0.4460\n",
      "Epoch 77/100\n",
      "242/242 [==============================] - 0s 820us/step - loss: 0.4802 - val_loss: 0.4452\n",
      "Epoch 78/100\n",
      "242/242 [==============================] - 0s 1ms/step - loss: 0.4595 - val_loss: 0.4439\n",
      "Epoch 79/100\n",
      "242/242 [==============================] - 0s 894us/step - loss: 0.4515 - val_loss: 0.4430\n",
      "Epoch 80/100\n",
      "242/242 [==============================] - 0s 925us/step - loss: 0.4692 - val_loss: 0.4419\n",
      "Epoch 81/100\n",
      "242/242 [==============================] - 0s 2ms/step - loss: 0.4389 - val_loss: 0.4410\n",
      "Epoch 82/100\n",
      "242/242 [==============================] - 0s 1ms/step - loss: 0.4462 - val_loss: 0.4400\n",
      "Epoch 83/100\n",
      "242/242 [==============================] - 0s 1ms/step - loss: 0.4521 - val_loss: 0.4390\n",
      "Epoch 84/100\n",
      "242/242 [==============================] - 0s 950us/step - loss: 0.4589 - val_loss: 0.4380\n",
      "Epoch 85/100\n",
      "242/242 [==============================] - 0s 905us/step - loss: 0.4445 - val_loss: 0.4372\n",
      "Epoch 86/100\n",
      "242/242 [==============================] - 0s 912us/step - loss: 0.4555 - val_loss: 0.4363\n",
      "Epoch 87/100\n",
      "242/242 [==============================] - 0s 985us/step - loss: 0.4532 - val_loss: 0.4358\n",
      "Epoch 88/100\n",
      "242/242 [==============================] - 0s 941us/step - loss: 0.4440 - val_loss: 0.4348\n",
      "Epoch 89/100\n",
      "242/242 [==============================] - 0s 916us/step - loss: 0.4419 - val_loss: 0.4338\n",
      "Epoch 90/100\n",
      "242/242 [==============================] - 0s 916us/step - loss: 0.4372 - val_loss: 0.4329\n",
      "Epoch 91/100\n",
      "242/242 [==============================] - 0s 951us/step - loss: 0.4435 - val_loss: 0.4321\n",
      "Epoch 92/100\n",
      "242/242 [==============================] - 0s 1ms/step - loss: 0.4487 - val_loss: 0.4313\n",
      "Epoch 93/100\n",
      "242/242 [==============================] - 0s 1ms/step - loss: 0.4286 - val_loss: 0.4305\n",
      "Epoch 94/100\n",
      "242/242 [==============================] - 0s 1ms/step - loss: 0.4336 - val_loss: 0.4296\n",
      "Epoch 95/100\n",
      "242/242 [==============================] - 0s 958us/step - loss: 0.4524 - val_loss: 0.4287\n",
      "Epoch 96/100\n",
      "242/242 [==============================] - 0s 908us/step - loss: 0.4499 - val_loss: 0.4280\n",
      "Epoch 97/100\n",
      "242/242 [==============================] - 0s 1ms/step - loss: 0.4441 - val_loss: 0.4273\n",
      "Epoch 98/100\n",
      "242/242 [==============================] - 0s 1ms/step - loss: 0.4427 - val_loss: 0.4265\n",
      "Epoch 99/100\n",
      "242/242 [==============================] - 0s 1ms/step - loss: 0.4339 - val_loss: 0.4258\n",
      "Epoch 100/100\n",
      "242/242 [==============================] - 0s 916us/step - loss: 0.4318 - val_loss: 0.4252\n",
      "121/121 [==============================] - 0s 563us/step - loss: 0.4219\n",
      "Epoch 1/100\n",
      "242/242 [==============================] - 1s 1ms/step - loss: 4.1502 - val_loss: 2.2755\n",
      "Epoch 2/100\n",
      "242/242 [==============================] - 0s 928us/step - loss: 2.1514 - val_loss: 1.3360\n",
      "Epoch 3/100\n",
      "242/242 [==============================] - 0s 935us/step - loss: 1.4708 - val_loss: 0.9927\n",
      "Epoch 4/100\n",
      "242/242 [==============================] - 0s 953us/step - loss: 0.9628 - val_loss: 0.8522\n",
      "Epoch 5/100\n",
      "242/242 [==============================] - 0s 974us/step - loss: 0.8685 - val_loss: 0.7797\n",
      "Epoch 6/100\n",
      "242/242 [==============================] - 0s 922us/step - loss: 0.7860 - val_loss: 0.7403\n",
      "Epoch 7/100\n",
      "242/242 [==============================] - 0s 913us/step - loss: 0.7420 - val_loss: 0.7151\n",
      "Epoch 8/100\n",
      "242/242 [==============================] - 0s 1ms/step - loss: 0.7093 - val_loss: 0.6977\n",
      "Epoch 9/100\n",
      "242/242 [==============================] - 0s 1ms/step - loss: 0.7046 - val_loss: 0.6842\n",
      "Epoch 10/100\n",
      "242/242 [==============================] - 0s 963us/step - loss: 0.6731 - val_loss: 0.6730\n",
      "Epoch 11/100\n",
      "242/242 [==============================] - 0s 1ms/step - loss: 0.6559 - val_loss: 0.6630\n",
      "Epoch 12/100\n",
      "242/242 [==============================] - 0s 1ms/step - loss: 0.6467 - val_loss: 0.6540\n",
      "Epoch 13/100\n",
      "242/242 [==============================] - 0s 2ms/step - loss: 0.6820 - val_loss: 0.6455\n",
      "Epoch 14/100\n",
      "242/242 [==============================] - 0s 1ms/step - loss: 0.6445 - val_loss: 0.6376\n",
      "Epoch 15/100\n",
      "242/242 [==============================] - 0s 908us/step - loss: 0.6361 - val_loss: 0.6302\n",
      "Epoch 16/100\n",
      "242/242 [==============================] - 0s 907us/step - loss: 0.6302 - val_loss: 0.6229\n",
      "Epoch 17/100\n",
      "242/242 [==============================] - 0s 990us/step - loss: 0.6245 - val_loss: 0.6161\n",
      "Epoch 18/100\n",
      "242/242 [==============================] - 0s 911us/step - loss: 0.6195 - val_loss: 0.6093\n",
      "Epoch 19/100\n",
      "242/242 [==============================] - 0s 916us/step - loss: 0.6223 - val_loss: 0.6029\n",
      "Epoch 20/100\n",
      "242/242 [==============================] - 0s 904us/step - loss: 0.6422 - val_loss: 0.5966\n",
      "Epoch 21/100\n",
      "242/242 [==============================] - 0s 907us/step - loss: 0.6144 - val_loss: 0.5906\n",
      "Epoch 22/100\n",
      "242/242 [==============================] - 0s 951us/step - loss: 0.6082 - val_loss: 0.5847\n",
      "Epoch 23/100\n",
      "242/242 [==============================] - 0s 927us/step - loss: 0.5921 - val_loss: 0.5789\n",
      "Epoch 24/100\n",
      "242/242 [==============================] - 0s 966us/step - loss: 0.5826 - val_loss: 0.5731\n",
      "Epoch 25/100\n",
      "242/242 [==============================] - 0s 934us/step - loss: 0.5791 - val_loss: 0.5677\n",
      "Epoch 26/100\n",
      "242/242 [==============================] - 0s 943us/step - loss: 0.5669 - val_loss: 0.5623\n",
      "Epoch 27/100\n",
      "242/242 [==============================] - 0s 908us/step - loss: 0.6086 - val_loss: 0.5569\n",
      "Epoch 28/100\n",
      "242/242 [==============================] - 0s 929us/step - loss: 0.5306 - val_loss: 0.5517\n",
      "Epoch 29/100\n",
      "242/242 [==============================] - 0s 986us/step - loss: 0.5816 - val_loss: 0.5467\n",
      "Epoch 30/100\n",
      "242/242 [==============================] - 0s 1ms/step - loss: 0.5495 - val_loss: 0.5418\n",
      "Epoch 31/100\n",
      "242/242 [==============================] - 0s 1ms/step - loss: 0.5465 - val_loss: 0.5367\n",
      "Epoch 32/100\n",
      "242/242 [==============================] - 0s 1ms/step - loss: 0.5469 - val_loss: 0.5317\n",
      "Epoch 33/100\n",
      "242/242 [==============================] - 0s 929us/step - loss: 0.5181 - val_loss: 0.5268\n",
      "Epoch 34/100\n",
      "242/242 [==============================] - 0s 1ms/step - loss: 0.5314 - val_loss: 0.5223\n",
      "Epoch 35/100\n",
      "141/242 [================>.............] - ETA: 0s - loss: 0.5160"
     ]
    },
    {
     "ename": "KeyboardInterrupt",
     "evalue": "",
     "output_type": "error",
     "traceback": [
      "\u001b[0;31m---------------------------------------------------------------------------\u001b[0m",
      "\u001b[0;31mIndexError\u001b[0m                                Traceback (most recent call last)",
      "\u001b[0;32m~/opt/anaconda3/envs/chi/lib/python3.7/site-packages/tensorflow/python/eager/function.py\u001b[0m in \u001b[0;36m_cache_key_context\u001b[0;34m(self)\u001b[0m\n\u001b[1;32m   3164\u001b[0m     \u001b[0;32mtry\u001b[0m\u001b[0;34m:\u001b[0m\u001b[0;34m\u001b[0m\u001b[0;34m\u001b[0m\u001b[0m\n\u001b[0;32m-> 3165\u001b[0;31m       \u001b[0min_cross_replica_context\u001b[0m \u001b[0;34m=\u001b[0m \u001b[0;34m(\u001b[0m\u001b[0mstrategy_stack\u001b[0m\u001b[0;34m[\u001b[0m\u001b[0;34m-\u001b[0m\u001b[0;36m1\u001b[0m\u001b[0;34m]\u001b[0m\u001b[0;34m.\u001b[0m\u001b[0mreplica_context\u001b[0m \u001b[0;32mis\u001b[0m \u001b[0;32mNone\u001b[0m\u001b[0;34m)\u001b[0m  \u001b[0;31m# pylint: disable=protected-access\u001b[0m\u001b[0;34m\u001b[0m\u001b[0;34m\u001b[0m\u001b[0m\n\u001b[0m\u001b[1;32m   3166\u001b[0m     \u001b[0;32mexcept\u001b[0m \u001b[0;34m(\u001b[0m\u001b[0mAttributeError\u001b[0m\u001b[0;34m,\u001b[0m \u001b[0mIndexError\u001b[0m\u001b[0;34m)\u001b[0m\u001b[0;34m:\u001b[0m\u001b[0;34m\u001b[0m\u001b[0;34m\u001b[0m\u001b[0m\n",
      "\u001b[0;31mIndexError\u001b[0m: list index out of range",
      "\nDuring handling of the above exception, another exception occurred:\n",
      "\u001b[0;31mKeyboardInterrupt\u001b[0m                         Traceback (most recent call last)",
      "\u001b[0;32m<ipython-input-56-6c3d470dc3eb>\u001b[0m in \u001b[0;36m<module>\u001b[0;34m\u001b[0m\n\u001b[1;32m     11\u001b[0m rnd_search_cv.fit(X_train, y_train, epochs=100,\n\u001b[1;32m     12\u001b[0m                   \u001b[0mvalidation_data\u001b[0m\u001b[0;34m=\u001b[0m\u001b[0;34m(\u001b[0m\u001b[0mX_valid\u001b[0m\u001b[0;34m,\u001b[0m \u001b[0my_valid\u001b[0m\u001b[0;34m)\u001b[0m\u001b[0;34m,\u001b[0m\u001b[0;34m\u001b[0m\u001b[0;34m\u001b[0m\u001b[0m\n\u001b[0;32m---> 13\u001b[0;31m                   callbacks=[keras.callbacks.EarlyStopping(patience=10)])\n\u001b[0m",
      "\u001b[0;32m~/opt/anaconda3/envs/chi/lib/python3.7/site-packages/sklearn/utils/validation.py\u001b[0m in \u001b[0;36minner_f\u001b[0;34m(*args, **kwargs)\u001b[0m\n\u001b[1;32m     70\u001b[0m                           FutureWarning)\n\u001b[1;32m     71\u001b[0m         \u001b[0mkwargs\u001b[0m\u001b[0;34m.\u001b[0m\u001b[0mupdate\u001b[0m\u001b[0;34m(\u001b[0m\u001b[0;34m{\u001b[0m\u001b[0mk\u001b[0m\u001b[0;34m:\u001b[0m \u001b[0marg\u001b[0m \u001b[0;32mfor\u001b[0m \u001b[0mk\u001b[0m\u001b[0;34m,\u001b[0m \u001b[0marg\u001b[0m \u001b[0;32min\u001b[0m \u001b[0mzip\u001b[0m\u001b[0;34m(\u001b[0m\u001b[0msig\u001b[0m\u001b[0;34m.\u001b[0m\u001b[0mparameters\u001b[0m\u001b[0;34m,\u001b[0m \u001b[0margs\u001b[0m\u001b[0;34m)\u001b[0m\u001b[0;34m}\u001b[0m\u001b[0;34m)\u001b[0m\u001b[0;34m\u001b[0m\u001b[0;34m\u001b[0m\u001b[0m\n\u001b[0;32m---> 72\u001b[0;31m         \u001b[0;32mreturn\u001b[0m \u001b[0mf\u001b[0m\u001b[0;34m(\u001b[0m\u001b[0;34m**\u001b[0m\u001b[0mkwargs\u001b[0m\u001b[0;34m)\u001b[0m\u001b[0;34m\u001b[0m\u001b[0;34m\u001b[0m\u001b[0m\n\u001b[0m\u001b[1;32m     73\u001b[0m     \u001b[0;32mreturn\u001b[0m \u001b[0minner_f\u001b[0m\u001b[0;34m\u001b[0m\u001b[0;34m\u001b[0m\u001b[0m\n\u001b[1;32m     74\u001b[0m \u001b[0;34m\u001b[0m\u001b[0m\n",
      "\u001b[0;32m~/opt/anaconda3/envs/chi/lib/python3.7/site-packages/sklearn/model_selection/_search.py\u001b[0m in \u001b[0;36mfit\u001b[0;34m(self, X, y, groups, **fit_params)\u001b[0m\n\u001b[1;32m    734\u001b[0m                 \u001b[0;32mreturn\u001b[0m \u001b[0mresults\u001b[0m\u001b[0;34m\u001b[0m\u001b[0;34m\u001b[0m\u001b[0m\n\u001b[1;32m    735\u001b[0m \u001b[0;34m\u001b[0m\u001b[0m\n\u001b[0;32m--> 736\u001b[0;31m             \u001b[0mself\u001b[0m\u001b[0;34m.\u001b[0m\u001b[0m_run_search\u001b[0m\u001b[0;34m(\u001b[0m\u001b[0mevaluate_candidates\u001b[0m\u001b[0;34m)\u001b[0m\u001b[0;34m\u001b[0m\u001b[0;34m\u001b[0m\u001b[0m\n\u001b[0m\u001b[1;32m    737\u001b[0m \u001b[0;34m\u001b[0m\u001b[0m\n\u001b[1;32m    738\u001b[0m         \u001b[0;31m# For multi-metric evaluation, store the best_index_, best_params_ and\u001b[0m\u001b[0;34m\u001b[0m\u001b[0;34m\u001b[0m\u001b[0;34m\u001b[0m\u001b[0m\n",
      "\u001b[0;32m~/opt/anaconda3/envs/chi/lib/python3.7/site-packages/sklearn/model_selection/_search.py\u001b[0m in \u001b[0;36m_run_search\u001b[0;34m(self, evaluate_candidates)\u001b[0m\n\u001b[1;32m   1529\u001b[0m         evaluate_candidates(ParameterSampler(\n\u001b[1;32m   1530\u001b[0m             \u001b[0mself\u001b[0m\u001b[0;34m.\u001b[0m\u001b[0mparam_distributions\u001b[0m\u001b[0;34m,\u001b[0m \u001b[0mself\u001b[0m\u001b[0;34m.\u001b[0m\u001b[0mn_iter\u001b[0m\u001b[0;34m,\u001b[0m\u001b[0;34m\u001b[0m\u001b[0;34m\u001b[0m\u001b[0m\n\u001b[0;32m-> 1531\u001b[0;31m             random_state=self.random_state))\n\u001b[0m",
      "\u001b[0;32m~/opt/anaconda3/envs/chi/lib/python3.7/site-packages/sklearn/model_selection/_search.py\u001b[0m in \u001b[0;36mevaluate_candidates\u001b[0;34m(candidate_params)\u001b[0m\n\u001b[1;32m    713\u001b[0m                                \u001b[0;32mfor\u001b[0m \u001b[0mparameters\u001b[0m\u001b[0;34m,\u001b[0m \u001b[0;34m(\u001b[0m\u001b[0mtrain\u001b[0m\u001b[0;34m,\u001b[0m \u001b[0mtest\u001b[0m\u001b[0;34m)\u001b[0m\u001b[0;34m\u001b[0m\u001b[0;34m\u001b[0m\u001b[0m\n\u001b[1;32m    714\u001b[0m                                in product(candidate_params,\n\u001b[0;32m--> 715\u001b[0;31m                                           cv.split(X, y, groups)))\n\u001b[0m\u001b[1;32m    716\u001b[0m \u001b[0;34m\u001b[0m\u001b[0m\n\u001b[1;32m    717\u001b[0m                 \u001b[0;32mif\u001b[0m \u001b[0mlen\u001b[0m\u001b[0;34m(\u001b[0m\u001b[0mout\u001b[0m\u001b[0;34m)\u001b[0m \u001b[0;34m<\u001b[0m \u001b[0;36m1\u001b[0m\u001b[0;34m:\u001b[0m\u001b[0;34m\u001b[0m\u001b[0;34m\u001b[0m\u001b[0m\n",
      "\u001b[0;32m~/opt/anaconda3/envs/chi/lib/python3.7/site-packages/joblib/parallel.py\u001b[0m in \u001b[0;36m__call__\u001b[0;34m(self, iterable)\u001b[0m\n\u001b[1;32m   1049\u001b[0m                 \u001b[0mself\u001b[0m\u001b[0;34m.\u001b[0m\u001b[0m_iterating\u001b[0m \u001b[0;34m=\u001b[0m \u001b[0mself\u001b[0m\u001b[0;34m.\u001b[0m\u001b[0m_original_iterator\u001b[0m \u001b[0;32mis\u001b[0m \u001b[0;32mnot\u001b[0m \u001b[0;32mNone\u001b[0m\u001b[0;34m\u001b[0m\u001b[0;34m\u001b[0m\u001b[0m\n\u001b[1;32m   1050\u001b[0m \u001b[0;34m\u001b[0m\u001b[0m\n\u001b[0;32m-> 1051\u001b[0;31m             \u001b[0;32mwhile\u001b[0m \u001b[0mself\u001b[0m\u001b[0;34m.\u001b[0m\u001b[0mdispatch_one_batch\u001b[0m\u001b[0;34m(\u001b[0m\u001b[0miterator\u001b[0m\u001b[0;34m)\u001b[0m\u001b[0;34m:\u001b[0m\u001b[0;34m\u001b[0m\u001b[0;34m\u001b[0m\u001b[0m\n\u001b[0m\u001b[1;32m   1052\u001b[0m                 \u001b[0;32mpass\u001b[0m\u001b[0;34m\u001b[0m\u001b[0;34m\u001b[0m\u001b[0m\n\u001b[1;32m   1053\u001b[0m \u001b[0;34m\u001b[0m\u001b[0m\n",
      "\u001b[0;32m~/opt/anaconda3/envs/chi/lib/python3.7/site-packages/joblib/parallel.py\u001b[0m in \u001b[0;36mdispatch_one_batch\u001b[0;34m(self, iterator)\u001b[0m\n\u001b[1;32m    864\u001b[0m                 \u001b[0;32mreturn\u001b[0m \u001b[0;32mFalse\u001b[0m\u001b[0;34m\u001b[0m\u001b[0;34m\u001b[0m\u001b[0m\n\u001b[1;32m    865\u001b[0m             \u001b[0;32melse\u001b[0m\u001b[0;34m:\u001b[0m\u001b[0;34m\u001b[0m\u001b[0;34m\u001b[0m\u001b[0m\n\u001b[0;32m--> 866\u001b[0;31m                 \u001b[0mself\u001b[0m\u001b[0;34m.\u001b[0m\u001b[0m_dispatch\u001b[0m\u001b[0;34m(\u001b[0m\u001b[0mtasks\u001b[0m\u001b[0;34m)\u001b[0m\u001b[0;34m\u001b[0m\u001b[0;34m\u001b[0m\u001b[0m\n\u001b[0m\u001b[1;32m    867\u001b[0m                 \u001b[0;32mreturn\u001b[0m \u001b[0;32mTrue\u001b[0m\u001b[0;34m\u001b[0m\u001b[0;34m\u001b[0m\u001b[0m\n\u001b[1;32m    868\u001b[0m \u001b[0;34m\u001b[0m\u001b[0m\n",
      "\u001b[0;32m~/opt/anaconda3/envs/chi/lib/python3.7/site-packages/joblib/parallel.py\u001b[0m in \u001b[0;36m_dispatch\u001b[0;34m(self, batch)\u001b[0m\n\u001b[1;32m    782\u001b[0m         \u001b[0;32mwith\u001b[0m \u001b[0mself\u001b[0m\u001b[0;34m.\u001b[0m\u001b[0m_lock\u001b[0m\u001b[0;34m:\u001b[0m\u001b[0;34m\u001b[0m\u001b[0;34m\u001b[0m\u001b[0m\n\u001b[1;32m    783\u001b[0m             \u001b[0mjob_idx\u001b[0m \u001b[0;34m=\u001b[0m \u001b[0mlen\u001b[0m\u001b[0;34m(\u001b[0m\u001b[0mself\u001b[0m\u001b[0;34m.\u001b[0m\u001b[0m_jobs\u001b[0m\u001b[0;34m)\u001b[0m\u001b[0;34m\u001b[0m\u001b[0;34m\u001b[0m\u001b[0m\n\u001b[0;32m--> 784\u001b[0;31m             \u001b[0mjob\u001b[0m \u001b[0;34m=\u001b[0m \u001b[0mself\u001b[0m\u001b[0;34m.\u001b[0m\u001b[0m_backend\u001b[0m\u001b[0;34m.\u001b[0m\u001b[0mapply_async\u001b[0m\u001b[0;34m(\u001b[0m\u001b[0mbatch\u001b[0m\u001b[0;34m,\u001b[0m \u001b[0mcallback\u001b[0m\u001b[0;34m=\u001b[0m\u001b[0mcb\u001b[0m\u001b[0;34m)\u001b[0m\u001b[0;34m\u001b[0m\u001b[0;34m\u001b[0m\u001b[0m\n\u001b[0m\u001b[1;32m    785\u001b[0m             \u001b[0;31m# A job can complete so quickly than its callback is\u001b[0m\u001b[0;34m\u001b[0m\u001b[0;34m\u001b[0m\u001b[0;34m\u001b[0m\u001b[0m\n\u001b[1;32m    786\u001b[0m             \u001b[0;31m# called before we get here, causing self._jobs to\u001b[0m\u001b[0;34m\u001b[0m\u001b[0;34m\u001b[0m\u001b[0;34m\u001b[0m\u001b[0m\n",
      "\u001b[0;32m~/opt/anaconda3/envs/chi/lib/python3.7/site-packages/joblib/_parallel_backends.py\u001b[0m in \u001b[0;36mapply_async\u001b[0;34m(self, func, callback)\u001b[0m\n\u001b[1;32m    206\u001b[0m     \u001b[0;32mdef\u001b[0m \u001b[0mapply_async\u001b[0m\u001b[0;34m(\u001b[0m\u001b[0mself\u001b[0m\u001b[0;34m,\u001b[0m \u001b[0mfunc\u001b[0m\u001b[0;34m,\u001b[0m \u001b[0mcallback\u001b[0m\u001b[0;34m=\u001b[0m\u001b[0;32mNone\u001b[0m\u001b[0;34m)\u001b[0m\u001b[0;34m:\u001b[0m\u001b[0;34m\u001b[0m\u001b[0;34m\u001b[0m\u001b[0m\n\u001b[1;32m    207\u001b[0m         \u001b[0;34m\"\"\"Schedule a func to be run\"\"\"\u001b[0m\u001b[0;34m\u001b[0m\u001b[0;34m\u001b[0m\u001b[0m\n\u001b[0;32m--> 208\u001b[0;31m         \u001b[0mresult\u001b[0m \u001b[0;34m=\u001b[0m \u001b[0mImmediateResult\u001b[0m\u001b[0;34m(\u001b[0m\u001b[0mfunc\u001b[0m\u001b[0;34m)\u001b[0m\u001b[0;34m\u001b[0m\u001b[0;34m\u001b[0m\u001b[0m\n\u001b[0m\u001b[1;32m    209\u001b[0m         \u001b[0;32mif\u001b[0m \u001b[0mcallback\u001b[0m\u001b[0;34m:\u001b[0m\u001b[0;34m\u001b[0m\u001b[0;34m\u001b[0m\u001b[0m\n\u001b[1;32m    210\u001b[0m             \u001b[0mcallback\u001b[0m\u001b[0;34m(\u001b[0m\u001b[0mresult\u001b[0m\u001b[0;34m)\u001b[0m\u001b[0;34m\u001b[0m\u001b[0;34m\u001b[0m\u001b[0m\n",
      "\u001b[0;32m~/opt/anaconda3/envs/chi/lib/python3.7/site-packages/joblib/_parallel_backends.py\u001b[0m in \u001b[0;36m__init__\u001b[0;34m(self, batch)\u001b[0m\n\u001b[1;32m    570\u001b[0m         \u001b[0;31m# Don't delay the application, to avoid keeping the input\u001b[0m\u001b[0;34m\u001b[0m\u001b[0;34m\u001b[0m\u001b[0;34m\u001b[0m\u001b[0m\n\u001b[1;32m    571\u001b[0m         \u001b[0;31m# arguments in memory\u001b[0m\u001b[0;34m\u001b[0m\u001b[0;34m\u001b[0m\u001b[0;34m\u001b[0m\u001b[0m\n\u001b[0;32m--> 572\u001b[0;31m         \u001b[0mself\u001b[0m\u001b[0;34m.\u001b[0m\u001b[0mresults\u001b[0m \u001b[0;34m=\u001b[0m \u001b[0mbatch\u001b[0m\u001b[0;34m(\u001b[0m\u001b[0;34m)\u001b[0m\u001b[0;34m\u001b[0m\u001b[0;34m\u001b[0m\u001b[0m\n\u001b[0m\u001b[1;32m    573\u001b[0m \u001b[0;34m\u001b[0m\u001b[0m\n\u001b[1;32m    574\u001b[0m     \u001b[0;32mdef\u001b[0m \u001b[0mget\u001b[0m\u001b[0;34m(\u001b[0m\u001b[0mself\u001b[0m\u001b[0;34m)\u001b[0m\u001b[0;34m:\u001b[0m\u001b[0;34m\u001b[0m\u001b[0;34m\u001b[0m\u001b[0m\n",
      "\u001b[0;32m~/opt/anaconda3/envs/chi/lib/python3.7/site-packages/joblib/parallel.py\u001b[0m in \u001b[0;36m__call__\u001b[0;34m(self)\u001b[0m\n\u001b[1;32m    261\u001b[0m         \u001b[0;32mwith\u001b[0m \u001b[0mparallel_backend\u001b[0m\u001b[0;34m(\u001b[0m\u001b[0mself\u001b[0m\u001b[0;34m.\u001b[0m\u001b[0m_backend\u001b[0m\u001b[0;34m,\u001b[0m \u001b[0mn_jobs\u001b[0m\u001b[0;34m=\u001b[0m\u001b[0mself\u001b[0m\u001b[0;34m.\u001b[0m\u001b[0m_n_jobs\u001b[0m\u001b[0;34m)\u001b[0m\u001b[0;34m:\u001b[0m\u001b[0;34m\u001b[0m\u001b[0;34m\u001b[0m\u001b[0m\n\u001b[1;32m    262\u001b[0m             return [func(*args, **kwargs)\n\u001b[0;32m--> 263\u001b[0;31m                     for func, args, kwargs in self.items]\n\u001b[0m\u001b[1;32m    264\u001b[0m \u001b[0;34m\u001b[0m\u001b[0m\n\u001b[1;32m    265\u001b[0m     \u001b[0;32mdef\u001b[0m \u001b[0m__reduce__\u001b[0m\u001b[0;34m(\u001b[0m\u001b[0mself\u001b[0m\u001b[0;34m)\u001b[0m\u001b[0;34m:\u001b[0m\u001b[0;34m\u001b[0m\u001b[0;34m\u001b[0m\u001b[0m\n",
      "\u001b[0;32m~/opt/anaconda3/envs/chi/lib/python3.7/site-packages/joblib/parallel.py\u001b[0m in \u001b[0;36m<listcomp>\u001b[0;34m(.0)\u001b[0m\n\u001b[1;32m    261\u001b[0m         \u001b[0;32mwith\u001b[0m \u001b[0mparallel_backend\u001b[0m\u001b[0;34m(\u001b[0m\u001b[0mself\u001b[0m\u001b[0;34m.\u001b[0m\u001b[0m_backend\u001b[0m\u001b[0;34m,\u001b[0m \u001b[0mn_jobs\u001b[0m\u001b[0;34m=\u001b[0m\u001b[0mself\u001b[0m\u001b[0;34m.\u001b[0m\u001b[0m_n_jobs\u001b[0m\u001b[0;34m)\u001b[0m\u001b[0;34m:\u001b[0m\u001b[0;34m\u001b[0m\u001b[0;34m\u001b[0m\u001b[0m\n\u001b[1;32m    262\u001b[0m             return [func(*args, **kwargs)\n\u001b[0;32m--> 263\u001b[0;31m                     for func, args, kwargs in self.items]\n\u001b[0m\u001b[1;32m    264\u001b[0m \u001b[0;34m\u001b[0m\u001b[0m\n\u001b[1;32m    265\u001b[0m     \u001b[0;32mdef\u001b[0m \u001b[0m__reduce__\u001b[0m\u001b[0;34m(\u001b[0m\u001b[0mself\u001b[0m\u001b[0;34m)\u001b[0m\u001b[0;34m:\u001b[0m\u001b[0;34m\u001b[0m\u001b[0;34m\u001b[0m\u001b[0m\n",
      "\u001b[0;32m~/opt/anaconda3/envs/chi/lib/python3.7/site-packages/sklearn/model_selection/_validation.py\u001b[0m in \u001b[0;36m_fit_and_score\u001b[0;34m(estimator, X, y, scorer, train, test, verbose, parameters, fit_params, return_train_score, return_parameters, return_n_test_samples, return_times, return_estimator, error_score)\u001b[0m\n\u001b[1;32m    529\u001b[0m             \u001b[0mestimator\u001b[0m\u001b[0;34m.\u001b[0m\u001b[0mfit\u001b[0m\u001b[0;34m(\u001b[0m\u001b[0mX_train\u001b[0m\u001b[0;34m,\u001b[0m \u001b[0;34m**\u001b[0m\u001b[0mfit_params\u001b[0m\u001b[0;34m)\u001b[0m\u001b[0;34m\u001b[0m\u001b[0;34m\u001b[0m\u001b[0m\n\u001b[1;32m    530\u001b[0m         \u001b[0;32melse\u001b[0m\u001b[0;34m:\u001b[0m\u001b[0;34m\u001b[0m\u001b[0;34m\u001b[0m\u001b[0m\n\u001b[0;32m--> 531\u001b[0;31m             \u001b[0mestimator\u001b[0m\u001b[0;34m.\u001b[0m\u001b[0mfit\u001b[0m\u001b[0;34m(\u001b[0m\u001b[0mX_train\u001b[0m\u001b[0;34m,\u001b[0m \u001b[0my_train\u001b[0m\u001b[0;34m,\u001b[0m \u001b[0;34m**\u001b[0m\u001b[0mfit_params\u001b[0m\u001b[0;34m)\u001b[0m\u001b[0;34m\u001b[0m\u001b[0;34m\u001b[0m\u001b[0m\n\u001b[0m\u001b[1;32m    532\u001b[0m \u001b[0;34m\u001b[0m\u001b[0m\n\u001b[1;32m    533\u001b[0m     \u001b[0;32mexcept\u001b[0m \u001b[0mException\u001b[0m \u001b[0;32mas\u001b[0m \u001b[0me\u001b[0m\u001b[0;34m:\u001b[0m\u001b[0;34m\u001b[0m\u001b[0;34m\u001b[0m\u001b[0m\n",
      "\u001b[0;32m~/opt/anaconda3/envs/chi/lib/python3.7/site-packages/tensorflow/python/keras/wrappers/scikit_learn.py\u001b[0m in \u001b[0;36mfit\u001b[0;34m(self, x, y, **kwargs)\u001b[0m\n\u001b[1;32m    164\u001b[0m     \u001b[0mfit_args\u001b[0m\u001b[0;34m.\u001b[0m\u001b[0mupdate\u001b[0m\u001b[0;34m(\u001b[0m\u001b[0mkwargs\u001b[0m\u001b[0;34m)\u001b[0m\u001b[0;34m\u001b[0m\u001b[0;34m\u001b[0m\u001b[0m\n\u001b[1;32m    165\u001b[0m \u001b[0;34m\u001b[0m\u001b[0m\n\u001b[0;32m--> 166\u001b[0;31m     \u001b[0mhistory\u001b[0m \u001b[0;34m=\u001b[0m \u001b[0mself\u001b[0m\u001b[0;34m.\u001b[0m\u001b[0mmodel\u001b[0m\u001b[0;34m.\u001b[0m\u001b[0mfit\u001b[0m\u001b[0;34m(\u001b[0m\u001b[0mx\u001b[0m\u001b[0;34m,\u001b[0m \u001b[0my\u001b[0m\u001b[0;34m,\u001b[0m \u001b[0;34m**\u001b[0m\u001b[0mfit_args\u001b[0m\u001b[0;34m)\u001b[0m\u001b[0;34m\u001b[0m\u001b[0;34m\u001b[0m\u001b[0m\n\u001b[0m\u001b[1;32m    167\u001b[0m \u001b[0;34m\u001b[0m\u001b[0m\n\u001b[1;32m    168\u001b[0m     \u001b[0;32mreturn\u001b[0m \u001b[0mhistory\u001b[0m\u001b[0;34m\u001b[0m\u001b[0;34m\u001b[0m\u001b[0m\n",
      "\u001b[0;32m~/opt/anaconda3/envs/chi/lib/python3.7/site-packages/tensorflow/python/keras/engine/training.py\u001b[0m in \u001b[0;36mfit\u001b[0;34m(self, x, y, batch_size, epochs, verbose, callbacks, validation_split, validation_data, shuffle, class_weight, sample_weight, initial_epoch, steps_per_epoch, validation_steps, validation_batch_size, validation_freq, max_queue_size, workers, use_multiprocessing)\u001b[0m\n\u001b[1;32m   1098\u001b[0m                 _r=1):\n\u001b[1;32m   1099\u001b[0m               \u001b[0mcallbacks\u001b[0m\u001b[0;34m.\u001b[0m\u001b[0mon_train_batch_begin\u001b[0m\u001b[0;34m(\u001b[0m\u001b[0mstep\u001b[0m\u001b[0;34m)\u001b[0m\u001b[0;34m\u001b[0m\u001b[0;34m\u001b[0m\u001b[0m\n\u001b[0;32m-> 1100\u001b[0;31m               \u001b[0mtmp_logs\u001b[0m \u001b[0;34m=\u001b[0m \u001b[0mself\u001b[0m\u001b[0;34m.\u001b[0m\u001b[0mtrain_function\u001b[0m\u001b[0;34m(\u001b[0m\u001b[0miterator\u001b[0m\u001b[0;34m)\u001b[0m\u001b[0;34m\u001b[0m\u001b[0;34m\u001b[0m\u001b[0m\n\u001b[0m\u001b[1;32m   1101\u001b[0m               \u001b[0;32mif\u001b[0m \u001b[0mdata_handler\u001b[0m\u001b[0;34m.\u001b[0m\u001b[0mshould_sync\u001b[0m\u001b[0;34m:\u001b[0m\u001b[0;34m\u001b[0m\u001b[0;34m\u001b[0m\u001b[0m\n\u001b[1;32m   1102\u001b[0m                 \u001b[0mcontext\u001b[0m\u001b[0;34m.\u001b[0m\u001b[0masync_wait\u001b[0m\u001b[0;34m(\u001b[0m\u001b[0;34m)\u001b[0m\u001b[0;34m\u001b[0m\u001b[0;34m\u001b[0m\u001b[0m\n",
      "\u001b[0;32m~/opt/anaconda3/envs/chi/lib/python3.7/site-packages/tensorflow/python/eager/def_function.py\u001b[0m in \u001b[0;36m__call__\u001b[0;34m(self, *args, **kwds)\u001b[0m\n\u001b[1;32m    826\u001b[0m     \u001b[0mtracing_count\u001b[0m \u001b[0;34m=\u001b[0m \u001b[0mself\u001b[0m\u001b[0;34m.\u001b[0m\u001b[0mexperimental_get_tracing_count\u001b[0m\u001b[0;34m(\u001b[0m\u001b[0;34m)\u001b[0m\u001b[0;34m\u001b[0m\u001b[0;34m\u001b[0m\u001b[0m\n\u001b[1;32m    827\u001b[0m     \u001b[0;32mwith\u001b[0m \u001b[0mtrace\u001b[0m\u001b[0;34m.\u001b[0m\u001b[0mTrace\u001b[0m\u001b[0;34m(\u001b[0m\u001b[0mself\u001b[0m\u001b[0;34m.\u001b[0m\u001b[0m_name\u001b[0m\u001b[0;34m)\u001b[0m \u001b[0;32mas\u001b[0m \u001b[0mtm\u001b[0m\u001b[0;34m:\u001b[0m\u001b[0;34m\u001b[0m\u001b[0;34m\u001b[0m\u001b[0m\n\u001b[0;32m--> 828\u001b[0;31m       \u001b[0mresult\u001b[0m \u001b[0;34m=\u001b[0m \u001b[0mself\u001b[0m\u001b[0;34m.\u001b[0m\u001b[0m_call\u001b[0m\u001b[0;34m(\u001b[0m\u001b[0;34m*\u001b[0m\u001b[0margs\u001b[0m\u001b[0;34m,\u001b[0m \u001b[0;34m**\u001b[0m\u001b[0mkwds\u001b[0m\u001b[0;34m)\u001b[0m\u001b[0;34m\u001b[0m\u001b[0;34m\u001b[0m\u001b[0m\n\u001b[0m\u001b[1;32m    829\u001b[0m       \u001b[0mcompiler\u001b[0m \u001b[0;34m=\u001b[0m \u001b[0;34m\"xla\"\u001b[0m \u001b[0;32mif\u001b[0m \u001b[0mself\u001b[0m\u001b[0;34m.\u001b[0m\u001b[0m_experimental_compile\u001b[0m \u001b[0;32melse\u001b[0m \u001b[0;34m\"nonXla\"\u001b[0m\u001b[0;34m\u001b[0m\u001b[0;34m\u001b[0m\u001b[0m\n\u001b[1;32m    830\u001b[0m       \u001b[0mnew_tracing_count\u001b[0m \u001b[0;34m=\u001b[0m \u001b[0mself\u001b[0m\u001b[0;34m.\u001b[0m\u001b[0mexperimental_get_tracing_count\u001b[0m\u001b[0;34m(\u001b[0m\u001b[0;34m)\u001b[0m\u001b[0;34m\u001b[0m\u001b[0;34m\u001b[0m\u001b[0m\n",
      "\u001b[0;32m~/opt/anaconda3/envs/chi/lib/python3.7/site-packages/tensorflow/python/eager/def_function.py\u001b[0m in \u001b[0;36m_call\u001b[0;34m(self, *args, **kwds)\u001b[0m\n\u001b[1;32m    853\u001b[0m       \u001b[0;31m# In this case we have created variables on the first call, so we run the\u001b[0m\u001b[0;34m\u001b[0m\u001b[0;34m\u001b[0m\u001b[0;34m\u001b[0m\u001b[0m\n\u001b[1;32m    854\u001b[0m       \u001b[0;31m# defunned version which is guaranteed to never create variables.\u001b[0m\u001b[0;34m\u001b[0m\u001b[0;34m\u001b[0m\u001b[0;34m\u001b[0m\u001b[0m\n\u001b[0;32m--> 855\u001b[0;31m       \u001b[0;32mreturn\u001b[0m \u001b[0mself\u001b[0m\u001b[0;34m.\u001b[0m\u001b[0m_stateless_fn\u001b[0m\u001b[0;34m(\u001b[0m\u001b[0;34m*\u001b[0m\u001b[0margs\u001b[0m\u001b[0;34m,\u001b[0m \u001b[0;34m**\u001b[0m\u001b[0mkwds\u001b[0m\u001b[0;34m)\u001b[0m  \u001b[0;31m# pylint: disable=not-callable\u001b[0m\u001b[0;34m\u001b[0m\u001b[0;34m\u001b[0m\u001b[0m\n\u001b[0m\u001b[1;32m    856\u001b[0m     \u001b[0;32melif\u001b[0m \u001b[0mself\u001b[0m\u001b[0;34m.\u001b[0m\u001b[0m_stateful_fn\u001b[0m \u001b[0;32mis\u001b[0m \u001b[0;32mnot\u001b[0m \u001b[0;32mNone\u001b[0m\u001b[0;34m:\u001b[0m\u001b[0;34m\u001b[0m\u001b[0;34m\u001b[0m\u001b[0m\n\u001b[1;32m    857\u001b[0m       \u001b[0;31m# Release the lock early so that multiple threads can perform the call\u001b[0m\u001b[0;34m\u001b[0m\u001b[0;34m\u001b[0m\u001b[0;34m\u001b[0m\u001b[0m\n",
      "\u001b[0;32m~/opt/anaconda3/envs/chi/lib/python3.7/site-packages/tensorflow/python/eager/function.py\u001b[0m in \u001b[0;36m__call__\u001b[0;34m(self, *args, **kwargs)\u001b[0m\n\u001b[1;32m   2939\u001b[0m     \u001b[0;32mwith\u001b[0m \u001b[0mself\u001b[0m\u001b[0;34m.\u001b[0m\u001b[0m_lock\u001b[0m\u001b[0;34m:\u001b[0m\u001b[0;34m\u001b[0m\u001b[0;34m\u001b[0m\u001b[0m\n\u001b[1;32m   2940\u001b[0m       (graph_function,\n\u001b[0;32m-> 2941\u001b[0;31m        filtered_flat_args) = self._maybe_define_function(args, kwargs)\n\u001b[0m\u001b[1;32m   2942\u001b[0m     return graph_function._call_flat(\n\u001b[1;32m   2943\u001b[0m         filtered_flat_args, captured_inputs=graph_function.captured_inputs)  # pylint: disable=protected-access\n",
      "\u001b[0;32m~/opt/anaconda3/envs/chi/lib/python3.7/site-packages/tensorflow/python/eager/function.py\u001b[0m in \u001b[0;36m_maybe_define_function\u001b[0;34m(self, args, kwargs)\u001b[0m\n\u001b[1;32m   3316\u001b[0m       \u001b[0mflat_args\u001b[0m\u001b[0;34m,\u001b[0m \u001b[0mfiltered_flat_args\u001b[0m \u001b[0;34m=\u001b[0m \u001b[0;34m[\u001b[0m\u001b[0;32mNone\u001b[0m\u001b[0;34m]\u001b[0m\u001b[0;34m,\u001b[0m \u001b[0;34m[\u001b[0m\u001b[0;34m]\u001b[0m\u001b[0;34m\u001b[0m\u001b[0;34m\u001b[0m\u001b[0m\n\u001b[1;32m   3317\u001b[0m \u001b[0;34m\u001b[0m\u001b[0m\n\u001b[0;32m-> 3318\u001b[0;31m     \u001b[0mcache_key_context\u001b[0m \u001b[0;34m=\u001b[0m \u001b[0mself\u001b[0m\u001b[0;34m.\u001b[0m\u001b[0m_cache_key_context\u001b[0m\u001b[0;34m(\u001b[0m\u001b[0;34m)\u001b[0m\u001b[0;34m\u001b[0m\u001b[0;34m\u001b[0m\u001b[0m\n\u001b[0m\u001b[1;32m   3319\u001b[0m     \u001b[0mcache_key\u001b[0m \u001b[0;34m=\u001b[0m \u001b[0mself\u001b[0m\u001b[0;34m.\u001b[0m\u001b[0m_cache_key\u001b[0m\u001b[0;34m(\u001b[0m\u001b[0margs\u001b[0m\u001b[0;34m,\u001b[0m \u001b[0mkwargs\u001b[0m\u001b[0;34m,\u001b[0m \u001b[0mcache_key_context\u001b[0m\u001b[0;34m)\u001b[0m\u001b[0;34m\u001b[0m\u001b[0;34m\u001b[0m\u001b[0m\n\u001b[1;32m   3320\u001b[0m \u001b[0;34m\u001b[0m\u001b[0m\n",
      "\u001b[0;32m~/opt/anaconda3/envs/chi/lib/python3.7/site-packages/tensorflow/python/eager/function.py\u001b[0m in \u001b[0;36m_cache_key_context\u001b[0;34m(self)\u001b[0m\n\u001b[1;32m   3163\u001b[0m     \u001b[0min_cross_replica_context\u001b[0m \u001b[0;34m=\u001b[0m \u001b[0;32mFalse\u001b[0m\u001b[0;34m\u001b[0m\u001b[0;34m\u001b[0m\u001b[0m\n\u001b[1;32m   3164\u001b[0m     \u001b[0;32mtry\u001b[0m\u001b[0;34m:\u001b[0m\u001b[0;34m\u001b[0m\u001b[0;34m\u001b[0m\u001b[0m\n\u001b[0;32m-> 3165\u001b[0;31m       \u001b[0min_cross_replica_context\u001b[0m \u001b[0;34m=\u001b[0m \u001b[0;34m(\u001b[0m\u001b[0mstrategy_stack\u001b[0m\u001b[0;34m[\u001b[0m\u001b[0;34m-\u001b[0m\u001b[0;36m1\u001b[0m\u001b[0;34m]\u001b[0m\u001b[0;34m.\u001b[0m\u001b[0mreplica_context\u001b[0m \u001b[0;32mis\u001b[0m \u001b[0;32mNone\u001b[0m\u001b[0;34m)\u001b[0m  \u001b[0;31m# pylint: disable=protected-access\u001b[0m\u001b[0;34m\u001b[0m\u001b[0;34m\u001b[0m\u001b[0m\n\u001b[0m\u001b[1;32m   3166\u001b[0m     \u001b[0;32mexcept\u001b[0m \u001b[0;34m(\u001b[0m\u001b[0mAttributeError\u001b[0m\u001b[0;34m,\u001b[0m \u001b[0mIndexError\u001b[0m\u001b[0;34m)\u001b[0m\u001b[0;34m:\u001b[0m\u001b[0;34m\u001b[0m\u001b[0;34m\u001b[0m\u001b[0m\n\u001b[1;32m   3167\u001b[0m       \u001b[0;32mpass\u001b[0m\u001b[0;34m\u001b[0m\u001b[0;34m\u001b[0m\u001b[0m\n",
      "\u001b[0;31mKeyboardInterrupt\u001b[0m: "
     ]
    }
   ],
   "source": [
    "from scipy.stats import reciprocal\n",
    "from sklearn.model_selection import RandomizedSearchCV\n",
    "\n",
    "param_distribs = {\n",
    "    \"n_hidden\": [0,1,2,3],\n",
    "    \"n_neurons\": np.arange(1,100),\n",
    "    \"learning_rate\": reciprocal(3e-4, 3e-2)\n",
    "}\n",
    "\n",
    "rnd_search_cv = RandomizedSearchCV(keras_reg, param_distribs, n_iter=10, cv=3)\n",
    "rnd_search_cv.fit(X_train, y_train, epochs=100,\n",
    "                  validation_data=(X_valid, y_valid),\n",
    "                  callbacks=[keras.callbacks.EarlyStopping(patience=10)])"
   ]
  },
  {
   "cell_type": "code",
   "execution_count": 60,
   "metadata": {},
   "outputs": [],
   "source": [
    "# rnd_search_cv.best_params_\n",
    "# {'learning_rate': 0.0033625641252688094, 'n_hidden': 2, 'n_neurons': 42}\n",
    "# rnd_search_cv.best_score_\n",
    "# model = rnd_search_cv.best_estimator_.model"
   ]
  },
  {
   "cell_type": "code",
   "execution_count": null,
   "metadata": {},
   "outputs": [],
   "source": []
  }
 ],
 "metadata": {
  "kernelspec": {
   "display_name": "Python [conda env:chi] *",
   "language": "python",
   "name": "conda-env-chi-py"
  },
  "language_info": {
   "codemirror_mode": {
    "name": "ipython",
    "version": 3
   },
   "file_extension": ".py",
   "mimetype": "text/x-python",
   "name": "python",
   "nbconvert_exporter": "python",
   "pygments_lexer": "ipython3",
   "version": "3.7.5"
  }
 },
 "nbformat": 4,
 "nbformat_minor": 4
}
